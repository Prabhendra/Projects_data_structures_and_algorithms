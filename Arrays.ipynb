{
 "cells": [
  {
   "cell_type": "code",
   "execution_count": null,
   "id": "a7bfe8d6-03fa-45c0-96c7-8c1ea5373e46",
   "metadata": {},
   "outputs": [],
   "source": [
    "Assignment - Arrays"
   ]
  },
  {
   "cell_type": "markdown",
   "id": "f136d8a8-73f3-42c5-8f90-9be79211f6c9",
   "metadata": {},
   "source": [
    "29th Oct 2023 Assinment"
   ]
  },
  {
   "cell_type": "code",
   "execution_count": null,
   "id": "4800418b-aa77-4771-9c76-0415571382f8",
   "metadata": {},
   "outputs": [],
   "source": [
    "Name  Prabhendra\n",
    "Data Science"
   ]
  },
  {
   "cell_type": "markdown",
   "id": "b0f58445-8f9a-45a6-bf94-f99a3dec835c",
   "metadata": {},
   "source": [
    "1. Given an array, check if it contains any duplicates or not. \n",
    "\n",
    "arr = [1, 2, 4, 2, 5, 9] \n",
    "\n",
    "Output = True"
   ]
  },
  {
   "cell_type": "code",
   "execution_count": 14,
   "id": "a09a38de-3e6c-433a-ace7-bfd2bbe95bc5",
   "metadata": {},
   "outputs": [
    {
     "data": {
      "text/plain": [
       "True"
      ]
     },
     "execution_count": 14,
     "metadata": {},
     "output_type": "execute_result"
    }
   ],
   "source": [
    "#Solution:\\\n",
    "'''Time Complexity : O(n) = O(n) + O(1)\n",
    "Space complexity : O(n)\n",
    "'''\n",
    "\n",
    "def checkdup(arr):\n",
    "    return len(set(arr)) != len(arr)\n",
    "            # if length of arr is not equal to length of set of arr then it have some dup.\n",
    "\n",
    "#example\n",
    "arr = [1, 2, 4, 2, 5, 9]\n",
    "checkdup(arr)"
   ]
  },
  {
   "cell_type": "markdown",
   "id": "fdaf85c7-bd54-4da6-ad8f-6f221f559863",
   "metadata": {},
   "source": [
    "2. Given an array and an integer k, rotate the array to the right by k steps. \n",
    "\n",
    "arr = [1, 2, 3, 4, 5, 6, 7] k = 3 \n",
    "\n",
    "Output = [5, 6, 7, 1, 2, 3, 4]"
   ]
  },
  {
   "cell_type": "code",
   "execution_count": 19,
   "id": "ab8b7d2d-a765-4c4d-b17d-0912ccd7b7c8",
   "metadata": {},
   "outputs": [
    {
     "data": {
      "text/plain": [
       "[5, 6, 7, 1, 2, 3, 4]"
      ]
     },
     "execution_count": 19,
     "metadata": {},
     "output_type": "execute_result"
    }
   ],
   "source": [
    "# time complexity : O(n) The time complexity of this solution is O(n), where n is the length of the input array. This is because we need to iterate through the array once to create the two sliced parts.\n",
    "#space complexity : O(n) The space complexity of this solution is also O(n), as we are creating a new array to store the rotated elements. The size of the new array is the same as the input array.\n",
    "\n",
    "def rotateright(arr,k):\n",
    "    n = len(arr)\n",
    "    k = k % n\n",
    "    return arr[-k:] + arr[:-k] # it will we positve when we move left\n",
    "\n",
    "\n",
    "arr = [1, 2, 3, 4, 5, 6, 7]\n",
    "k = 3\n",
    "rotateright(arr,k)  "
   ]
  },
  {
   "cell_type": "markdown",
   "id": "7bf0218a-fed4-422b-8e79-72347ec66bdb",
   "metadata": {},
   "source": [
    "3. Reverse the given array in-place, means without using any extra data structure. \n",
    "\n",
    "arr = [2, 4, 5, 7, 9, 12] \n",
    "\n",
    "Output = [12, 9, 7, 5, 4, 2]"
   ]
  },
  {
   "cell_type": "code",
   "execution_count": 8,
   "id": "aeac69f5-3046-4b6b-b928-3f3d85090fe7",
   "metadata": {},
   "outputs": [],
   "source": [
    "#Array Reversal\n",
    "'''Time omplexity is  O(n)\n",
    "space complexity is O(1)'''\n",
    "\n",
    "def reverse_array(arr):\n",
    "    \n",
    "\n",
    "    left = 0\n",
    "\n",
    "    right = len(arr) - 1\n",
    "\n",
    "\n",
    "    while left < right:\n",
    "        arr[left], arr[right] = arr[right], arr[left]\n",
    "        left += 1\n",
    "        right -= 1\n",
    "    "
   ]
  },
  {
   "cell_type": "markdown",
   "id": "fddadaba-d3a2-473e-8429-2de710795ed2",
   "metadata": {},
   "source": [
    "4. Given an array of integers, find the maximum element in an array\n",
    "\n",
    " arr = [10, 5, 20, 8, 15]\n",
    "\n",
    " Output = 20"
   ]
  },
  {
   "cell_type": "code",
   "execution_count": 9,
   "id": "7c83abf3-7e9f-4b53-9b7f-483097e307f8",
   "metadata": {},
   "outputs": [
    {
     "name": "stdout",
     "output_type": "stream",
     "text": [
      "20\n"
     ]
    }
   ],
   "source": [
    "'''time complexity is O(n)\n",
    "Space complexity is O(1)'''\n",
    "arr = [10, 5, 20, 8, 15]\n",
    "maxi_elements = max(arr)\n",
    "print(maxi_elements)"
   ]
  },
  {
   "cell_type": "markdown",
   "id": "4ab01b6a-7d23-4638-9483-06b06f68aeeb",
   "metadata": {},
   "source": [
    "5. Given a sorted array, remove the duplicate element without using any extra data structure. \n",
    "\n",
    "arr = [1, 1, 2, 2, 2, 3, 3, 4, 4, 4, 5, 5] \n",
    "\n",
    "Output = [1, 2, 3, 4, 5]"
   ]
  },
  {
   "cell_type": "code",
   "execution_count": 16,
   "id": "708ff6ad-9dc8-4432-975c-d29a457710f2",
   "metadata": {},
   "outputs": [
    {
     "name": "stdout",
     "output_type": "stream",
     "text": [
      "[1, 2, 3, 4, 5]\n"
     ]
    }
   ],
   "source": [
    "Time complexity is O(n)\n",
    "Space Complexity is O(1)\n",
    "def reovedup(arr):\n",
    "    if not arr:\n",
    "        return 0\n",
    "    write_index = 1\n",
    "    for i in range(1,len(arr)):\n",
    "        if arr[i] != arr[i-1]:\n",
    "            arr[write_index] = arr[i]\n",
    "            write_index += 1\n",
    "    return write_index\n",
    "        \n",
    "arr = [1, 1, 2, 2, 2, 3, 3, 4, 4, 4, 5, 5]\n",
    "new_length = reovedup(arr)\n",
    "print(arr[:new_length])\n",
    "        "
   ]
  },
  {
   "cell_type": "code",
   "execution_count": null,
   "id": "fb0efd37-4df9-4496-a049-924ab7db4e86",
   "metadata": {},
   "outputs": [],
   "source": []
  }
 ],
 "metadata": {
  "kernelspec": {
   "display_name": "Python 3 (ipykernel)",
   "language": "python",
   "name": "python3"
  },
  "language_info": {
   "codemirror_mode": {
    "name": "ipython",
    "version": 3
   },
   "file_extension": ".py",
   "mimetype": "text/x-python",
   "name": "python",
   "nbconvert_exporter": "python",
   "pygments_lexer": "ipython3",
   "version": "3.10.8"
  }
 },
 "nbformat": 4,
 "nbformat_minor": 5
}
