{
  "nbformat": 4,
  "nbformat_minor": 0,
  "metadata": {
    "colab": {
      "provenance": []
    },
    "kernelspec": {
      "name": "python3",
      "display_name": "Python 3"
    },
    "language_info": {
      "name": "python"
    }
  },
  "cells": [
    {
      "cell_type": "markdown",
      "source": [
        "#DSA PROJECT"
      ],
      "metadata": {
        "id": "JU5hE8wwGdep"
      }
    },
    {
      "cell_type": "markdown",
      "source": [
        "Problem 1: Reverse a singly linked list.\n",
        "\n",
        "Input: 1 -> 2 -> 3 -> 4 -> 5\n",
        "\n",
        "Output: 5 -> 4 -> 3 -> 2 -> 1"
      ],
      "metadata": {
        "id": "95tdzLumGkQB"
      }
    },
    {
      "cell_type": "code",
      "source": [
        "class ListNode:\n",
        "    def __init__(self, val=0, next=None):\n",
        "        self.val = val\n",
        "        self.next = next\n",
        "\n",
        "def reverse_list(head):\n",
        "    prev = None\n",
        "    current = head\n",
        "\n",
        "    while current:\n",
        "        next_node = current.next  # Store next node\n",
        "        current.next = prev  # Reverse pointer\n",
        "        prev = current  # Move prev to current\n",
        "        current = next_node  # Move current to next node\n",
        "\n",
        "    return prev  # New head of the reversed list\n",
        "\n",
        "# Example usage:\n",
        "def print_list(head):\n",
        "    while head:\n",
        "        print(head.val, end=\" -> \")\n",
        "        head = head.next\n",
        "    print(\"NULL\")\n",
        "\n",
        "# Creating linked list: 1 -> 2 -> 3 -> 4 -> 5\n",
        "head = ListNode(1, ListNode(2, ListNode(3, ListNode(4, ListNode(5)))))\n",
        "\n",
        "print(\"Original List:\")\n",
        "print_list(head)\n",
        "\n",
        "reversed_head = reverse_list(head)\n",
        "\n",
        "print(\"Reversed List:\")\n",
        "print_list(reversed_head)\n"
      ],
      "metadata": {
        "colab": {
          "base_uri": "https://localhost:8080/"
        },
        "id": "b-KRjGHZKFw8",
        "outputId": "e81f2f76-7082-431d-fa1c-5618c04ed26a"
      },
      "execution_count": 1,
      "outputs": [
        {
          "output_type": "stream",
          "name": "stdout",
          "text": [
            "Original List:\n",
            "1 -> 2 -> 3 -> 4 -> 5 -> NULL\n",
            "Reversed List:\n",
            "5 -> 4 -> 3 -> 2 -> 1 -> NULL\n"
          ]
        }
      ]
    },
    {
      "cell_type": "markdown",
      "source": [
        "Problem 2: Merge two sorted linked lists into one sorted linked list.\n",
        "\n",
        "Input: List 1: 1 -> 3 -> 5, List 2: 2 -> 4 -> 6\n",
        "\n",
        "Output: 1 -> 2 -> 3 -> 4 -> 5 -> 6"
      ],
      "metadata": {
        "id": "UtYs3YYVGsNn"
      }
    },
    {
      "cell_type": "code",
      "source": [
        "class ListNode:\n",
        "    def __init__(self, val=0, next=None):\n",
        "        self.val = val\n",
        "        self.next = next\n",
        "\n",
        "def merge_sorted_lists(l1, l2):\n",
        "    dummy = ListNode()  # Dummy node to simplify the merge process\n",
        "    tail = dummy\n",
        "\n",
        "    while l1 and l2:\n",
        "        if l1.val < l2.val:\n",
        "            tail.next = l1\n",
        "            l1 = l1.next\n",
        "        else:\n",
        "            tail.next = l2\n",
        "            l2 = l2.next\n",
        "        tail = tail.next  # Move tail forward\n",
        "\n",
        "    # If any list remains, attach it\n",
        "    tail.next = l1 if l1 else l2\n",
        "\n",
        "    return dummy.next  # New merged head\n",
        "\n",
        "# Helper function to print the linked list\n",
        "def print_list(head):\n",
        "    while head:\n",
        "        print(head.val, end=\" -> \")\n",
        "        head = head.next\n",
        "    print(\"NULL\")\n",
        "\n",
        "# Example usage\n",
        "l1 = ListNode(1, ListNode(3, ListNode(5)))\n",
        "l2 = ListNode(2, ListNode(4, ListNode(6)))\n",
        "\n",
        "print(\"List 1:\")\n",
        "print_list(l1)\n",
        "print(\"List 2:\")\n",
        "print_list(l2)\n",
        "\n",
        "merged_head = merge_sorted_lists(l1, l2)\n",
        "print(\"Merged Sorted List:\")\n",
        "print_list(merged_head)\n"
      ],
      "metadata": {
        "colab": {
          "base_uri": "https://localhost:8080/"
        },
        "id": "e6y-FSHnKFW8",
        "outputId": "affca301-b46a-4d1e-9f5a-1b88742b8c32"
      },
      "execution_count": 2,
      "outputs": [
        {
          "output_type": "stream",
          "name": "stdout",
          "text": [
            "List 1:\n",
            "1 -> 3 -> 5 -> NULL\n",
            "List 2:\n",
            "2 -> 4 -> 6 -> NULL\n",
            "Merged Sorted List:\n",
            "1 -> 2 -> 3 -> 4 -> 5 -> 6 -> NULL\n"
          ]
        }
      ]
    },
    {
      "cell_type": "markdown",
      "source": [
        "Problem 3: Remove the nth node from the end of a linked list.\n",
        "\n",
        "Input: 1 -> 2 -> 3 -> 4 -> 5, n = 2\n",
        "\n",
        "Output: 1 -> 2 -> 3 -> 5\n"
      ],
      "metadata": {
        "id": "762P4nlwG0C7"
      }
    },
    {
      "cell_type": "code",
      "source": [
        "class ListNode:\n",
        "    def __init__(self, val=0, next=None):\n",
        "        self.val = val\n",
        "        self.next = next\n",
        "\n",
        "def remove_nth_from_end(head, n):\n",
        "    dummy = ListNode(0, head)  # Dummy node to handle edge cases\n",
        "    fast = slow = dummy  # Start both pointers at dummy node\n",
        "\n",
        "    # Move fast n+1 steps ahead (to get one step ahead of the target)\n",
        "    for _ in range(n + 1):\n",
        "        fast = fast.next\n",
        "\n",
        "    # Move both pointers together until fast reaches the end\n",
        "    while fast:\n",
        "        fast = fast.next\n",
        "        slow = slow.next\n",
        "\n",
        "    # Remove the target node\n",
        "    slow.next = slow.next.next\n",
        "\n",
        "    return dummy.next  # Return new head\n",
        "\n",
        "# Helper function to print the linked list\n",
        "def print_list(head):\n",
        "    while head:\n",
        "        print(head.val, end=\" -> \")\n",
        "        head = head.next\n",
        "    print(\"NULL\")\n",
        "\n",
        "# Example usage\n",
        "head = ListNode(1, ListNode(2, ListNode(3, ListNode(4, ListNode(5)))))\n",
        "\n",
        "print(\"Original List:\")\n",
        "print_list(head)\n",
        "\n",
        "n = 2\n",
        "new_head = remove_nth_from_end(head, n)\n",
        "\n",
        "print(f\"List after removing {n}th node from the end:\")\n",
        "print_list(new_head)\n"
      ],
      "metadata": {
        "colab": {
          "base_uri": "https://localhost:8080/"
        },
        "id": "OqeHa3_DKE_8",
        "outputId": "72463c20-ddf3-4d5e-c0a0-2161c54a613d"
      },
      "execution_count": 3,
      "outputs": [
        {
          "output_type": "stream",
          "name": "stdout",
          "text": [
            "Original List:\n",
            "1 -> 2 -> 3 -> 4 -> 5 -> NULL\n",
            "List after removing 2th node from the end:\n",
            "1 -> 2 -> 3 -> 5 -> NULL\n"
          ]
        }
      ]
    },
    {
      "cell_type": "markdown",
      "source": [
        "Problem 4: Find the intersection point of two linked lists.\n",
        "\n",
        "Input: List 1: 1 -> 2 -> 3 -> 4, List 2: 9 -> 8 -> 3 -> 4\n",
        "\n",
        "Output: Node with value 3"
      ],
      "metadata": {
        "id": "qcKwIRMzG9Ki"
      }
    },
    {
      "cell_type": "code",
      "source": [
        "class ListNode:\n",
        "    def __init__(self, val=0, next=None):\n",
        "        self.val = val\n",
        "        self.next = next\n",
        "\n",
        "def get_intersection_node(headA, headB):\n",
        "    if not headA or not headB:\n",
        "        return None\n",
        "\n",
        "    p1, p2 = headA, headB\n",
        "\n",
        "    while p1 != p2:\n",
        "        # Move to next node or switch list when reaching the end\n",
        "        p1 = p1.next if p1 else headB\n",
        "        p2 = p2.next if p2 else headA\n",
        "\n",
        "    return p1  # This is either the intersection node or None (if no intersection)\n",
        "\n",
        "# Helper function to print intersection node\n",
        "def print_intersection(node):\n",
        "    if node:\n",
        "        print(f\"Intersection at node with value: {node.val}\")\n",
        "    else:\n",
        "        print(\"No intersection\")\n",
        "\n",
        "# Example usage\n",
        "common = ListNode(3, ListNode(4))  # Common part\n",
        "\n",
        "headA = ListNode(1, ListNode(2, common))  # 1 -> 2 -> 3 -> 4\n",
        "headB = ListNode(9, ListNode(8, common))  # 9 -> 8 -> 3 -> 4\n",
        "\n",
        "intersection = get_intersection_node(headA, headB)\n",
        "print_intersection(intersection)\n"
      ],
      "metadata": {
        "colab": {
          "base_uri": "https://localhost:8080/"
        },
        "id": "ZAmJVtYdKEMI",
        "outputId": "2a1180c3-3858-4b68-a45a-9e6bb3ab8b82"
      },
      "execution_count": 4,
      "outputs": [
        {
          "output_type": "stream",
          "name": "stdout",
          "text": [
            "Intersection at node with value: 3\n"
          ]
        }
      ]
    },
    {
      "cell_type": "markdown",
      "source": [
        "Problem 5: Remove duplicates from a sorted linked list.\n",
        "\n",
        "Input: 1 -> 1 -> 2 -> 3 -> 3\n",
        "\n",
        "Output: 1 -> 2 -> 3"
      ],
      "metadata": {
        "id": "gvkSvngdHCy9"
      }
    },
    {
      "cell_type": "code",
      "source": [
        "class ListNode:\n",
        "    def __init__(self, val=0, next=None):\n",
        "        self.val = val\n",
        "        self.next = next\n",
        "\n",
        "def remove_duplicates(head):\n",
        "    current = head\n",
        "\n",
        "    while current and current.next:\n",
        "        if current.val == current.next.val:\n",
        "            current.next = current.next.next  # Skip duplicate node\n",
        "        else:\n",
        "            current = current.next  # Move forward\n",
        "\n",
        "    return head\n",
        "\n",
        "# Helper function to print the linked list\n",
        "def print_list(head):\n",
        "    while head:\n",
        "        print(head.val, end=\" -> \")\n",
        "        head = head.next\n",
        "    print(\"NULL\")\n",
        "\n",
        "# Example usage\n",
        "head = ListNode(1, ListNode(1, ListNode(2, ListNode(3, ListNode(3)))))\n",
        "\n",
        "print(\"Original List:\")\n",
        "print_list(head)\n",
        "\n",
        "new_head = remove_duplicates(head)\n",
        "\n",
        "print(\"List after removing duplicates:\")\n",
        "print_list(new_head)\n"
      ],
      "metadata": {
        "colab": {
          "base_uri": "https://localhost:8080/"
        },
        "id": "2RCIxFANKDlG",
        "outputId": "262457a0-d324-4124-b725-bda924ddbfac"
      },
      "execution_count": 5,
      "outputs": [
        {
          "output_type": "stream",
          "name": "stdout",
          "text": [
            "Original List:\n",
            "1 -> 1 -> 2 -> 3 -> 3 -> NULL\n",
            "List after removing duplicates:\n",
            "1 -> 2 -> 3 -> NULL\n"
          ]
        }
      ]
    },
    {
      "cell_type": "markdown",
      "source": [
        "Problem 6: Add two numbers represented by linked lists (where each node contains a single digit).\n",
        "\n",
        "Input: List 1: 2 -> 4 -> 3, List 2: 5 -> 6 -> 4 (represents 342 + 465)\n",
        "\n",
        "Output: 7 -> 0 -> 8 (represents 807)"
      ],
      "metadata": {
        "id": "S2oAcLFfHJso"
      }
    },
    {
      "cell_type": "code",
      "source": [
        "class ListNode:\n",
        "    def __init__(self, val=0, next=None):\n",
        "        self.val = val\n",
        "        self.next = next\n",
        "\n",
        "def add_two_numbers(l1, l2):\n",
        "    dummy = ListNode()  # Dummy node to store result\n",
        "    current = dummy\n",
        "    carry = 0  # To store carry value\n",
        "\n",
        "    while l1 or l2 or carry:\n",
        "        val1 = l1.val if l1 else 0  # Get value from l1 (or 0 if None)\n",
        "        val2 = l2.val if l2 else 0  # Get value from l2 (or 0 if None)\n",
        "\n",
        "        # Compute sum and carry\n",
        "        total = val1 + val2 + carry\n",
        "        carry, digit = divmod(total, 10)  # Get new carry and digit\n",
        "\n",
        "        current.next = ListNode(digit)  # Create new node with digit\n",
        "        current = current.next  # Move pointer\n",
        "\n",
        "        # Move to next nodes in lists (if available)\n",
        "        l1 = l1.next if l1 else None\n",
        "        l2 = l2.next if l2 else None\n",
        "\n",
        "    return dummy.next  # Return result list (skipping dummy node)\n",
        "\n",
        "# Helper function to print linked list\n",
        "def print_list(head):\n",
        "    while head:\n",
        "        print(head.val, end=\" -> \")\n",
        "        head = head.next\n",
        "    print(\"NULL\")\n",
        "\n",
        "# Example usage\n",
        "l1 = ListNode(2, ListNode(4, ListNode(3)))  # Represents 342\n",
        "l2 = ListNode(5, ListNode(6, ListNode(4)))  # Represents 465\n",
        "\n",
        "print(\"List 1:\")\n",
        "print_list(l1)\n",
        "print(\"List 2:\")\n",
        "print_list(l2)\n",
        "\n",
        "result = add_two_numbers(l1, l2)\n",
        "\n",
        "print(\"Sum:\")\n",
        "print_list(result)\n"
      ],
      "metadata": {
        "colab": {
          "base_uri": "https://localhost:8080/"
        },
        "id": "58xGwHXlKDHc",
        "outputId": "6d1c3ccf-244a-4e4a-9ec7-2d503b6e5fe2"
      },
      "execution_count": 6,
      "outputs": [
        {
          "output_type": "stream",
          "name": "stdout",
          "text": [
            "List 1:\n",
            "2 -> 4 -> 3 -> NULL\n",
            "List 2:\n",
            "5 -> 6 -> 4 -> NULL\n",
            "Sum:\n",
            "7 -> 0 -> 8 -> NULL\n"
          ]
        }
      ]
    },
    {
      "cell_type": "markdown",
      "source": [
        "Problem 7: Swap nodes in pairs in a linked list.\n",
        "\n",
        "Input: 1 -> 2 -> 3 -> 4\n",
        "\n",
        "Output: 2 -> 1 -> 4 -> 3"
      ],
      "metadata": {
        "id": "PyAbZLKBHQSh"
      }
    },
    {
      "cell_type": "code",
      "source": [
        "class ListNode:\n",
        "    def __init__(self, val=0, next=None):\n",
        "        self.val = val\n",
        "        self.next = next\n",
        "\n",
        "def swap_pairs(head):\n",
        "    dummy = ListNode(0, head)  # Dummy node before head\n",
        "    prev = dummy\n",
        "\n",
        "    while prev.next and prev.next.next:\n",
        "        first = prev.next\n",
        "        second = first.next\n",
        "\n",
        "        # Swapping nodes\n",
        "        first.next = second.next\n",
        "        second.next = first\n",
        "        prev.next = second  # Adjust previous node's next pointer\n",
        "\n",
        "        # Move prev forward for next pair\n",
        "        prev = first\n",
        "\n",
        "    return dummy.next  # Return new head\n",
        "\n",
        "# Helper function to print linked list\n",
        "def print_list(head):\n",
        "    while head:\n",
        "        print(head.val, end=\" -> \")\n",
        "        head = head.next\n",
        "    print(\"NULL\")\n",
        "\n",
        "# Example usage\n",
        "head = ListNode(1, ListNode(2, ListNode(3, ListNode(4))))\n",
        "\n",
        "print(\"Original List:\")\n",
        "print_list(head)\n",
        "\n",
        "swapped_head = swap_pairs(head)\n",
        "\n",
        "print(\"Swapped List:\")\n",
        "print_list(swapped_head)\n"
      ],
      "metadata": {
        "colab": {
          "base_uri": "https://localhost:8080/"
        },
        "id": "ILKv6TFWKChG",
        "outputId": "64c46b75-0c54-453e-9956-3fdb7624c236"
      },
      "execution_count": 7,
      "outputs": [
        {
          "output_type": "stream",
          "name": "stdout",
          "text": [
            "Original List:\n",
            "1 -> 2 -> 3 -> 4 -> NULL\n",
            "Swapped List:\n",
            "2 -> 1 -> 4 -> 3 -> NULL\n"
          ]
        }
      ]
    },
    {
      "cell_type": "markdown",
      "source": [
        "Problem 8: Reverse nodes in a linked list in groups of k.\n",
        "\n",
        "Input: 1 -> 2 -> 3 -> 4 -> 5, k = 3\n",
        "\n",
        "Output: 3 -> 2 -> 1 -> 4 -> 5"
      ],
      "metadata": {
        "id": "rf1zFKjRHWLG"
      }
    },
    {
      "cell_type": "code",
      "source": [
        "class ListNode:\n",
        "    def __init__(self, val=0, next=None):\n",
        "        self.val = val\n",
        "        self.next = next\n",
        "\n",
        "def reverse_k_group(head, k):\n",
        "    dummy = ListNode(0, head)  # Dummy node before head\n",
        "    prev_group_end = dummy\n",
        "\n",
        "    while True:\n",
        "        # Check if there are k nodes left to reverse\n",
        "        kth = prev_group_end\n",
        "        for _ in range(k):\n",
        "            kth = kth.next\n",
        "            if not kth:\n",
        "                return dummy.next  # If less than k nodes, return\n",
        "\n",
        "        # Reverse k nodes\n",
        "        prev, current = None, prev_group_end.next\n",
        "        for _ in range(k):\n",
        "            next_node = current.next\n",
        "            current.next = prev\n",
        "            prev = current\n",
        "            current = next_node\n",
        "\n",
        "        # Connect reversed group to the rest of the list\n",
        "        temp = prev_group_end.next\n",
        "        prev_group_end.next = prev\n",
        "        temp.next = current\n",
        "        prev_group_end = temp  # Move prev_group_end to new end\n",
        "\n",
        "    return dummy.next  # New head after full reversal\n",
        "\n",
        "# Helper function to print linked list\n",
        "def print_list(head):\n",
        "    while head:\n",
        "        print(head.val, end=\" -> \")\n",
        "        head = head.next\n",
        "    print(\"NULL\")\n",
        "\n",
        "# Example usage\n",
        "head = ListNode(1, ListNode(2, ListNode(3, ListNode(4, ListNode(5)))))\n",
        "\n",
        "print(\"Original List:\")\n",
        "print_list(head)\n",
        "\n",
        "k = 3\n",
        "new_head = reverse_k_group(head, k)\n",
        "\n",
        "print(f\"Reversed in groups of {k}:\")\n",
        "print_list(new_head)\n"
      ],
      "metadata": {
        "colab": {
          "base_uri": "https://localhost:8080/"
        },
        "id": "YZZvb8lhKCDh",
        "outputId": "308a75a5-5870-4bd0-dd96-e3c2e01fa270"
      },
      "execution_count": 8,
      "outputs": [
        {
          "output_type": "stream",
          "name": "stdout",
          "text": [
            "Original List:\n",
            "1 -> 2 -> 3 -> 4 -> 5 -> NULL\n",
            "Reversed in groups of 3:\n",
            "3 -> 2 -> 1 -> 4 -> 5 -> NULL\n"
          ]
        }
      ]
    },
    {
      "cell_type": "markdown",
      "source": [
        "Problem 9: Determine if a linked list is a palindrome.\n",
        "\n",
        "Input: 1 -> 2 -> 2 -> 1\n",
        "\n",
        "Output: True"
      ],
      "metadata": {
        "id": "CvbWMQ8CHnvW"
      }
    },
    {
      "cell_type": "code",
      "source": [
        "class ListNode:\n",
        "    def __init__(self, val=0, next=None):\n",
        "        self.val = val\n",
        "        self.next = next\n",
        "\n",
        "def is_palindrome(head):\n",
        "    if not head or not head.next:\n",
        "        return True  # A single node or empty list is always a palindrome\n",
        "\n",
        "    # Step 1: Find the middle of the list (slow will be at the midpoint)\n",
        "    slow, fast = head, head\n",
        "    while fast and fast.next:\n",
        "        slow = slow.next\n",
        "        fast = fast.next.next\n",
        "\n",
        "    # Step 2: Reverse the second half of the list\n",
        "    prev, current = None, slow\n",
        "    while current:\n",
        "        next_node = current.next\n",
        "        current.next = prev\n",
        "        prev = current\n",
        "        current = next_node\n",
        "\n",
        "    # Step 3: Compare both halves\n",
        "    left, right = head, prev\n",
        "    while right:  # Right half will be smaller or equal\n",
        "        if left.val != right.val:\n",
        "            return False\n",
        "        left = left.next\n",
        "        right = right.next\n",
        "\n",
        "    return True  # Palindrome\n",
        "\n",
        "# Helper function to create a linked list from a list\n",
        "def create_list(values):\n",
        "    head = ListNode(values[0])\n",
        "    current = head\n",
        "    for val in values[1:]:\n",
        "        current.next = ListNode(val)\n",
        "        current = current.next\n",
        "    return head\n",
        "\n",
        "# Example usage\n",
        "head = create_list([1, 2, 2, 1])\n",
        "\n",
        "print(\"Is the list a palindrome?\")\n",
        "print(is_palindrome(head))  # Output: True\n"
      ],
      "metadata": {
        "id": "8uXwnzT9KBU4"
      },
      "execution_count": null,
      "outputs": []
    },
    {
      "cell_type": "markdown",
      "source": [
        "Problem 10: Rotate a linked list to the right by k places.\n",
        "\n",
        "Input: 1 -> 2 -> 3 -> 4 -> 5, k = 2\n",
        "\n",
        "Output: 4 -> 5 -> 1 -> 2 -> 3"
      ],
      "metadata": {
        "id": "u2LNn8UgHtKw"
      }
    },
    {
      "cell_type": "code",
      "source": [
        "class ListNode:\n",
        "    def __init__(self, val=0, next=None):\n",
        "        self.val = val\n",
        "        self.next = next\n",
        "\n",
        "def rotateRight(head, k):\n",
        "    if not head or not head.next or k == 0:\n",
        "        return head\n",
        "\n",
        "    # Step 1: Find the length of the linked list\n",
        "    length = 1\n",
        "    current = head\n",
        "    while current.next:\n",
        "        current = current.next\n",
        "        length += 1\n",
        "\n",
        "    # Step 2: Optimize k\n",
        "    k %= length\n",
        "    if k == 0:\n",
        "        return head\n",
        "\n",
        "    # Step 3: Find the break point\n",
        "    prev = head\n",
        "    for _ in range(length - k - 1):\n",
        "        prev = prev.next\n",
        "\n",
        "    # Step 4: Rearrange pointers\n",
        "    new_head = prev.next\n",
        "    prev.next = None\n",
        "\n",
        "    current = new_head\n",
        "    while current.next:\n",
        "        current = current.next\n",
        "    current.next = head\n",
        "\n",
        "    return new_head\n",
        "\n",
        "# Example Usage:\n",
        "# Create linked list: 1 -> 2 -> 3 -> 4 -> 5\n",
        "head = ListNode(1, ListNode(2, ListNode(3, ListNode(4, ListNode(5)))))\n",
        "k = 2\n",
        "result = rotateRight(head, k)\n",
        "\n",
        "# Print result\n",
        "while result:\n",
        "    print(result.val, end=\" -> \")\n",
        "    result = result.next"
      ],
      "metadata": {
        "colab": {
          "base_uri": "https://localhost:8080/"
        },
        "id": "OgtfuaNmKA1G",
        "outputId": "7a25eea4-71ac-4aa3-8803-d38a0e203712"
      },
      "execution_count": 9,
      "outputs": [
        {
          "output_type": "stream",
          "name": "stdout",
          "text": [
            "4 -> 5 -> 1 -> 2 -> 3 -> "
          ]
        }
      ]
    },
    {
      "cell_type": "markdown",
      "source": [
        "Problem 11: Flatten a multilevel doubly linked list.\n",
        "\n",
        "Input: 1 <-> 2 <-> 3 <-> 7 <-> 8 <-> 11 -> 12, 4 <-> 5 -> 9 -> 10, 6 -> 13\n",
        "\n",
        "Output: 1 <-> 2 <-> 3 <-> 4 <-> 5 <-> 6 <-> 7 <-> 8 <-> 9 <-> 10 <-> 11 <-> 12 <-> 13"
      ],
      "metadata": {
        "id": "Ze_AzQIeHzrb"
      }
    },
    {
      "cell_type": "code",
      "source": [
        "class Node:\n",
        "    def __init__(self, val=0, prev=None, next=None, child=None):\n",
        "        self.val = val\n",
        "        self.prev = prev\n",
        "        self.next = next\n",
        "        self.child = child\n",
        "\n",
        "def flatten(head):\n",
        "    if not head:\n",
        "        return head\n",
        "\n",
        "    # Create a stack to help with traversal\n",
        "    stack = []\n",
        "    current = head\n",
        "\n",
        "    while current:\n",
        "        # If the node has a child\n",
        "        if current.child:\n",
        "            # If there's a next node, push it onto the stack\n",
        "            if current.next:\n",
        "                stack.append(current.next)\n",
        "\n",
        "            # Link the current node to its child\n",
        "            current.next = current.child\n",
        "            current.child.prev = current\n",
        "            current.child = None  # Remove child pointer\n",
        "\n",
        "        # If the current node has no next but there are nodes in the stack\n",
        "        if not current.next and stack:\n",
        "            temp = stack.pop()\n",
        "            current.next = temp\n",
        "            temp.prev = current\n",
        "\n",
        "        # Move to the next node\n",
        "        current = current.next\n",
        "\n",
        "    return head\n",
        "\n",
        "# Example Usage:\n",
        "# Construct the multilevel doubly linked list manually\n",
        "# Example: Node values from the input mentioned\n",
        "node1 = Node(1)\n",
        "node2 = Node(2)\n",
        "node3 = Node(3)\n",
        "node7 = Node(7)\n",
        "node8 = Node(8)\n",
        "node11 = Node(11)\n",
        "node12 = Node(12)\n",
        "node4 = Node(4)\n",
        "node5 = Node(5)\n",
        "node9 = Node(9)\n",
        "node10 = Node(10)\n",
        "node6 = Node(6)\n",
        "node13 = Node(13)\n",
        "\n",
        "# Main level connections\n",
        "node1.next = node2\n",
        "node2.prev = node1\n",
        "node2.next = node3\n",
        "node3.prev = node2\n",
        "\n",
        "# Add child connections\n",
        "node3.child = node4\n",
        "node7.child = node8\n",
        "node8.child = node11\n",
        "node5.child = node9\n",
        "node6.child = node13\n",
        "\n",
        "# Flatten the list\n",
        "result = flatten(node1)\n",
        "\n",
        "# Print the flattened list\n",
        "while result:\n",
        "    print(result.val, end=\" <-> \" if result.next else \"\")\n",
        "    result = result.next"
      ],
      "metadata": {
        "colab": {
          "base_uri": "https://localhost:8080/"
        },
        "id": "yhXq5RiiKAPF",
        "outputId": "8c73869c-a798-4fe7-90fe-72766a5ded6e"
      },
      "execution_count": 10,
      "outputs": [
        {
          "output_type": "stream",
          "name": "stdout",
          "text": [
            "1 <-> 2 <-> 3 <-> 4"
          ]
        }
      ]
    },
    {
      "cell_type": "markdown",
      "source": [
        "Problem 12: Rearrange a linked list such that all even positioned nodes are placed at the end.\n",
        "\n",
        "Input: 1 -> 2 -> 3 -> 4 -> 5\n",
        "\n",
        "Output: 1 -> 3 -> 5 -> 2 -> 4"
      ],
      "metadata": {
        "id": "0KwBVRj7H5ww"
      }
    },
    {
      "cell_type": "code",
      "source": [
        "class ListNode:\n",
        "    def __init__(self, val=0, next=None):\n",
        "        self.val = val\n",
        "        self.next = next\n",
        "\n",
        "def rearrangeEvenPositionToEnd(head):\n",
        "    if not head or not head.next:\n",
        "        return head  # If the list has 0 or 1 node, no changes are needed\n",
        "\n",
        "    # Initialize pointers\n",
        "    odd = head\n",
        "    even = head.next\n",
        "    even_head = even  # Store the start of the even list\n",
        "\n",
        "    # Traverse and split into odd and even lists\n",
        "    while even and even.next:\n",
        "        odd.next = even.next\n",
        "        odd = odd.next\n",
        "        even.next = odd.next\n",
        "        even = even.next\n",
        "\n",
        "    # Combine odd and even lists\n",
        "    odd.next = even_head\n",
        "\n",
        "    return head\n",
        "\n",
        "# Example Usage:\n",
        "# Create linked list: 1 -> 2 -> 3 -> 4 -> 5\n",
        "head = ListNode(1, ListNode(2, ListNode(3, ListNode(4, ListNode(5)))))\n",
        "\n",
        "# Rearrange the list\n",
        "result = rearrangeEvenPositionToEnd(head)\n",
        "\n",
        "# Print result\n",
        "while result:\n",
        "    print(result.val, end=\" -> \" if result.next else \"\")\n",
        "    result = result.next"
      ],
      "metadata": {
        "colab": {
          "base_uri": "https://localhost:8080/"
        },
        "id": "mjPuJlHXJ_nh",
        "outputId": "e06bf52a-c322-4ed3-a460-d78b26a9b7ec"
      },
      "execution_count": 11,
      "outputs": [
        {
          "output_type": "stream",
          "name": "stdout",
          "text": [
            "1 -> 3 -> 5 -> 2 -> 4"
          ]
        }
      ]
    },
    {
      "cell_type": "markdown",
      "source": [
        "Problem 13: Given a non-negative number represented as a linked list, add one to it.\n",
        "\n",
        "Input: 1 -> 2 -> 3 (represents the number 123)\n",
        "\n",
        "Output: 1 -> 2 -> 4 (represents the number 124)"
      ],
      "metadata": {
        "id": "oh1VCannIAIV"
      }
    },
    {
      "cell_type": "code",
      "source": [
        "class ListNode:\n",
        "    def __init__(self, val=0, next=None):\n",
        "        self.val = val\n",
        "        self.next = next\n",
        "\n",
        "def addOne(head):\n",
        "    # Helper function to reverse the linked list\n",
        "    def reverseList(node):\n",
        "        prev = None\n",
        "        current = node\n",
        "        while current:\n",
        "            next_node = current.next\n",
        "            current.next = prev\n",
        "            prev = current\n",
        "            current = next_node\n",
        "        return prev\n",
        "\n",
        "    # Step 1: Reverse the linked list\n",
        "    head = reverseList(head)\n",
        "\n",
        "    # Step 2: Add one to the number\n",
        "    current = head\n",
        "    carry = 1  # Adding one starts with a carry of 1\n",
        "\n",
        "    while current:\n",
        "        current.val += carry\n",
        "        if current.val > 9:\n",
        "            current.val %= 10\n",
        "            carry = 1\n",
        "        else:\n",
        "            carry = 0\n",
        "\n",
        "        # Move to the next node\n",
        "        if not current.next and carry:  # If carry remains, add a new node\n",
        "            current.next = ListNode(1)\n",
        "            carry = 0\n",
        "        current = current.next\n",
        "\n",
        "    # Step 3: Reverse the list back\n",
        "    head = reverseList(head)\n",
        "\n",
        "    return head\n",
        "\n",
        "# Example Usage:\n",
        "# Create linked list: 1 -> 2 -> 3\n",
        "head = ListNode(1, ListNode(2, ListNode(3)))\n",
        "\n",
        "# Add one to the number\n",
        "result = addOne(head)\n",
        "\n",
        "# Print result\n",
        "while result:\n",
        "    print(result.val, end=\" -> \" if result.next else \"\")\n",
        "    result = result.next"
      ],
      "metadata": {
        "colab": {
          "base_uri": "https://localhost:8080/"
        },
        "id": "um_wduzGJ_A5",
        "outputId": "abd252e5-d144-4bec-8680-feda229534ac"
      },
      "execution_count": 12,
      "outputs": [
        {
          "output_type": "stream",
          "name": "stdout",
          "text": [
            "1 -> 2 -> 4"
          ]
        }
      ]
    },
    {
      "cell_type": "markdown",
      "source": [
        "Problem 14: Given a sorted array and a target value, return the index if the target is found. If not, return the\n",
        "index where it would be inserted.\n",
        "\n",
        "Input: nums = [1, 3, 5, 6], target = 5\n",
        "\n",
        "Output: 2"
      ],
      "metadata": {
        "id": "yxuDVX_CIGRT"
      }
    },
    {
      "cell_type": "code",
      "source": [
        "def searchInsert(nums, target):\n",
        "    left, right = 0, len(nums) - 1\n",
        "\n",
        "    while left <= right:\n",
        "        mid = (left + right) // 2\n",
        "\n",
        "        # Check if the middle element is the target\n",
        "        if nums[mid] == target:\n",
        "            return mid\n",
        "\n",
        "        # Target lies in the left half\n",
        "        elif nums[mid] > target:\n",
        "            right = mid - 1\n",
        "\n",
        "        # Target lies in the right half\n",
        "        else:\n",
        "            left = mid + 1\n",
        "\n",
        "    # If not found, `left` indicates the insertion position\n",
        "    return left\n",
        "\n",
        "# Example Usage:\n",
        "nums = [1, 3, 5, 6]\n",
        "target = 5\n",
        "print(searchInsert(nums, target))  # Output: 2"
      ],
      "metadata": {
        "colab": {
          "base_uri": "https://localhost:8080/"
        },
        "id": "DMZkWrXKJ-g5",
        "outputId": "993a3213-3ef0-49d7-9b88-5b9743c75717"
      },
      "execution_count": 13,
      "outputs": [
        {
          "output_type": "stream",
          "name": "stdout",
          "text": [
            "2\n"
          ]
        }
      ]
    },
    {
      "cell_type": "markdown",
      "source": [
        "Problem 15: Find the minimum element in a rotated sorted array.\n",
        "\n",
        "Input: [4, 5, 6, 7, 0, 1, 2]\n",
        "\n",
        "Output: 0"
      ],
      "metadata": {
        "id": "TAoEd_MzIMPF"
      }
    },
    {
      "cell_type": "code",
      "source": [
        "def findMin(nums):\n",
        "    left, right = 0, len(nums) - 1\n",
        "\n",
        "    while left < right:\n",
        "        mid = (left + right) // 2\n",
        "\n",
        "        # If the middle element is greater than the rightmost element\n",
        "        if nums[mid] > nums[right]:\n",
        "            # The minimum is in the right half\n",
        "            left = mid + 1\n",
        "        else:\n",
        "            # The minimum is in the left half or at `mid`\n",
        "            right = mid\n",
        "\n",
        "    # The `left` pointer will point to the minimum element\n",
        "    return nums[left]\n",
        "\n",
        "# Example Usage:\n",
        "nums = [4, 5, 6, 7, 0, 1, 2]\n",
        "print(findMin(nums))  # Output: 0"
      ],
      "metadata": {
        "colab": {
          "base_uri": "https://localhost:8080/"
        },
        "id": "Hy429OFmJ-HJ",
        "outputId": "b1f63353-7f23-46fc-bc73-7dd46dad09c4"
      },
      "execution_count": 14,
      "outputs": [
        {
          "output_type": "stream",
          "name": "stdout",
          "text": [
            "0\n"
          ]
        }
      ]
    },
    {
      "cell_type": "markdown",
      "source": [
        "Problem 16: Search for a target value in a rotated sorted array.\n",
        "\n",
        "Input: nums = [4, 5, 6, 7, 0, 1, 2], target = 0\n",
        "\n",
        "Output: 4"
      ],
      "metadata": {
        "id": "Zi2bdIdrISyY"
      }
    },
    {
      "cell_type": "code",
      "source": [
        "def search(nums, target):\n",
        "    left, right = 0, len(nums) - 1\n",
        "\n",
        "    while left <= right:\n",
        "        mid = (left + right) // 2\n",
        "\n",
        "        # Check if the middle element is the target\n",
        "        if nums[mid] == target:\n",
        "            return mid\n",
        "\n",
        "        # Determine if the left half is sorted\n",
        "        if nums[left] <= nums[mid]:\n",
        "            # Target lies in the left sorted segment\n",
        "            if nums[left] <= target < nums[mid]:\n",
        "                right = mid - 1\n",
        "            else:\n",
        "                left = mid + 1\n",
        "        # Right half is sorted\n",
        "        else:\n",
        "            # Target lies in the right sorted segment\n",
        "            if nums[mid] < target <= nums[right]:\n",
        "                left = mid + 1\n",
        "            else:\n",
        "                right = mid - 1\n",
        "\n",
        "    # If the target is not found, return -1\n",
        "    return -1\n",
        "\n",
        "# Example Usage:\n",
        "nums = [4, 5, 6, 7, 0, 1, 2]\n",
        "target = 0\n",
        "print(search(nums, target))  # Output: 4"
      ],
      "metadata": {
        "colab": {
          "base_uri": "https://localhost:8080/"
        },
        "id": "tbIlYhl7J9qs",
        "outputId": "7cb1c396-9a9d-4399-b4b4-a63ec7485fa2"
      },
      "execution_count": 15,
      "outputs": [
        {
          "output_type": "stream",
          "name": "stdout",
          "text": [
            "4\n"
          ]
        }
      ]
    },
    {
      "cell_type": "markdown",
      "source": [
        "Problem 17: Find the peak element in an array. A peak element is greater than its neighbors.\n",
        "\n",
        "Input: nums = [1, 2, 3, 1]\n",
        "\n",
        "Output: 2 (index of peak element)"
      ],
      "metadata": {
        "id": "7xsC8UZ0IYKI"
      }
    },
    {
      "cell_type": "code",
      "source": [
        "def findPeakElement(nums):\n",
        "    left, right = 0, len(nums) - 1\n",
        "\n",
        "    while left < right:\n",
        "        mid = (left + right) // 2\n",
        "\n",
        "        # Compare mid with its right neighbor\n",
        "        if nums[mid] < nums[mid + 1]:\n",
        "            # Peak is in the right half\n",
        "            left = mid + 1\n",
        "        else:\n",
        "            # Peak is in the left half\n",
        "            right = mid\n",
        "\n",
        "    # When left == right, we have found the peak\n",
        "    return left\n",
        "\n",
        "# Example Usage:\n",
        "nums = [1, 2, 3, 1]\n",
        "print(findPeakElement(nums))  # Output: 2"
      ],
      "metadata": {
        "colab": {
          "base_uri": "https://localhost:8080/"
        },
        "id": "J5QihebMJ860",
        "outputId": "c9bf1126-2eeb-4212-f1c2-11570d04b8fb"
      },
      "execution_count": 16,
      "outputs": [
        {
          "output_type": "stream",
          "name": "stdout",
          "text": [
            "2\n"
          ]
        }
      ]
    },
    {
      "cell_type": "markdown",
      "source": [
        "Problem 18: Given a m x n matrix where each row and column is sorted in ascending order, count the number\n",
        "of negative numbers.\n",
        "\n",
        "Input: grid = [[4, 3, 2, -1], [3, 2, 1, -1], [1, 1, -1, -2], [-1, -1, -2, -3]]\n",
        "\n",
        "Output: 8"
      ],
      "metadata": {
        "id": "w3voyijyIdrg"
      }
    },
    {
      "cell_type": "code",
      "source": [
        "def countNegatives(grid):\n",
        "    m, n = len(grid), len(grid[0])\n",
        "    row, col = m - 1, 0  # Start at the bottom-left corner\n",
        "    count = 0\n",
        "\n",
        "    while row >= 0 and col < n:\n",
        "        print(f\"Checking grid[{row}][{col}] = {grid[row][col]}\")  # Debugging output\n",
        "        if grid[row][col] < 0:\n",
        "            count += (m - row)\n",
        "            col += 1\n",
        "        else:\n",
        "            row -= 1\n",
        "\n",
        "    return count\n",
        "\n",
        "# Example Matrix\n",
        "grid = [[4, 3, 2, -1],\n",
        "        [3, 2, 1, -1],\n",
        "        [1, 1, -1, -2],\n",
        "        [-1, -1, -2, -3]]\n",
        "\n",
        "# Function Call\n",
        "result = countNegatives(grid)\n",
        "print(\"Total Negative Numbers:\", result)\n"
      ],
      "metadata": {
        "colab": {
          "base_uri": "https://localhost:8080/"
        },
        "id": "uyDzHNMaJ8jp",
        "outputId": "9aeb6046-e575-461d-c4a7-6f591990fd07"
      },
      "execution_count": 21,
      "outputs": [
        {
          "output_type": "stream",
          "name": "stdout",
          "text": [
            "Checking grid[3][0] = -1\n",
            "Checking grid[3][1] = -1\n",
            "Checking grid[3][2] = -2\n",
            "Checking grid[3][3] = -3\n",
            "Total Negative Numbers: 4\n"
          ]
        }
      ]
    },
    {
      "cell_type": "markdown",
      "source": [
        "Problem 19: Given a 2D matrix sorted in ascending order in each row, and the first integer of each row is\n",
        "greater than the last integer of the previous row, determine if a target value is present in the matrix.\n",
        "\n",
        "\n",
        "Input: matrix = [[1, 3, 5, 7], [10, 11, 16, 20], [23, 30, 34, 60]], target = 3\n",
        "\n",
        "Output: True"
      ],
      "metadata": {
        "id": "ybCoVgk6IjDS"
      }
    },
    {
      "cell_type": "code",
      "source": [
        "def searchMatrix(matrix, target):\n",
        "    m, n = len(matrix), len(matrix[0])\n",
        "    left, right = 0, m * n - 1\n",
        "\n",
        "    while left <= right:\n",
        "        mid = (left + right) // 2\n",
        "        row, col = divmod(mid, n)  # Map mid to matrix[row][col]\n",
        "        mid_value = matrix[row][col]\n",
        "\n",
        "        if mid_value == target:\n",
        "            return True\n",
        "        elif mid_value < target:\n",
        "            left = mid + 1\n",
        "        else:\n",
        "            right = mid - 1\n",
        "\n",
        "    return False\n",
        "\n",
        "# Example Usage:\n",
        "matrix = [[1, 3, 5, 7], [10, 11, 16, 20], [23, 30, 34, 60]]\n",
        "target = 3\n",
        "print(searchMatrix(matrix, target))  # Output: True"
      ],
      "metadata": {
        "colab": {
          "base_uri": "https://localhost:8080/"
        },
        "id": "Y8T9lXbSJ8CB",
        "outputId": "890c1388-600d-4e04-ad7b-79470618c4f5"
      },
      "execution_count": 18,
      "outputs": [
        {
          "output_type": "stream",
          "name": "stdout",
          "text": [
            "True\n"
          ]
        }
      ]
    },
    {
      "cell_type": "markdown",
      "source": [
        "Problem 20: Find Median in Two Sorted Arrays\n",
        "Problem: Given two sorted arrays, find the median of the combined sorted array.\n",
        "\n",
        "Input: nums1 = [1, 3], nums2 = [2]\n",
        "\n",
        "Output: 2.0"
      ],
      "metadata": {
        "id": "375wu_mgIpuZ"
      }
    },
    {
      "cell_type": "code",
      "source": [
        "def findMedianSortedArrays(nums1, nums2):\n",
        "    merged_array = sorted(nums1 + nums2)\n",
        "    n = len(merged_array)\n",
        "    if n % 2 == 0:\n",
        "        mid1 = n // 2 - 1\n",
        "        mid2 = n // 2\n",
        "        median = (merged_array[mid1] + merged_array[mid2]) / 2\n",
        "    else:\n",
        "        mid = n // 2\n",
        "        median = merged_array[mid]\n",
        "    return median\n",
        "\n",
        "nums1 = [1, 3]\n",
        "nums2 = [2]\n",
        "median = findMedianSortedArrays(nums1, nums2)\n",
        "print(median)"
      ],
      "metadata": {
        "colab": {
          "base_uri": "https://localhost:8080/"
        },
        "id": "_b0YYszFJ6jy",
        "outputId": "2280d51a-a3d6-470b-818c-f47f9aab0979"
      },
      "execution_count": 22,
      "outputs": [
        {
          "output_type": "stream",
          "name": "stdout",
          "text": [
            "2\n"
          ]
        }
      ]
    },
    {
      "cell_type": "markdown",
      "source": [
        "Problem 21: Given a sorted character array and a target letter, find the smallest letter in the array that is\n",
        "greater than the target.\n",
        "\n",
        "Input: letters = ['c', 'f', 'j'], target = a\n",
        "\n",
        "Output: 'c'"
      ],
      "metadata": {
        "id": "biYFlXAOIxPY"
      }
    },
    {
      "cell_type": "code",
      "source": [
        "def nextGreatestLetter(letters, target):\n",
        "    left, right = 0, len(letters) - 1\n",
        "\n",
        "    while left <= right:\n",
        "        mid = (left + right) // 2\n",
        "\n",
        "        if letters[mid] > target:\n",
        "            right = mid - 1\n",
        "        else:\n",
        "            left = mid + 1\n",
        "\n",
        "    # Handle the circular case\n",
        "    return letters[left % len(letters)]\n",
        "\n",
        "# Example Usage:\n",
        "letters = ['c', 'f', 'j']\n",
        "target = 'a'\n",
        "print(nextGreatestLetter(letters, target))  # Output: 'c'"
      ],
      "metadata": {
        "colab": {
          "base_uri": "https://localhost:8080/"
        },
        "id": "yB833nihJ5ju",
        "outputId": "df219c02-1438-4d28-932b-2c83ed95ecf9"
      },
      "execution_count": 23,
      "outputs": [
        {
          "output_type": "stream",
          "name": "stdout",
          "text": [
            "c\n"
          ]
        }
      ]
    },
    {
      "cell_type": "markdown",
      "source": [
        "Problem 22: Given an array with n objects colored red, white, or blue, sort them in-place so that objects of\n",
        "the same color are adjacent, with the colors in the order red, white, and blue.\n",
        "\n",
        "Input: nums = [2, 0, 2, 1, 1, 0]\n",
        "\n",
        "Output: [0, 0, 1, 1, 2, 2]"
      ],
      "metadata": {
        "id": "-Cy0hUAlI2Fi"
      }
    },
    {
      "cell_type": "code",
      "source": [
        "def sortColors(nums):\n",
        "    low, current, high = 0, 0, len(nums) - 1\n",
        "\n",
        "    while current <= high:\n",
        "        if nums[current] == 0:\n",
        "            nums[low], nums[current] = nums[current], nums[low]\n",
        "            low += 1\n",
        "            current += 1\n",
        "        elif nums[current] == 2:\n",
        "            nums[current], nums[high] = nums[high], nums[current]\n",
        "            high -= 1\n",
        "        else:  # nums[current] == 1\n",
        "            current += 1\n",
        "\n",
        "# Example Usage:\n",
        "nums = [2, 0, 2, 1, 1, 0]\n",
        "sortColors(nums)\n",
        "print(nums)  # Output: [0, 0, 1, 1, 2, 2]"
      ],
      "metadata": {
        "id": "1rrr6DSvJ5DZ"
      },
      "execution_count": null,
      "outputs": []
    },
    {
      "cell_type": "markdown",
      "source": [
        "Problem 23: Find the kth largest element in an unsorted array.\n",
        "\n",
        "Input: nums = [3, 2, 1, 5, 6, 4], k = 2\n",
        "\n",
        "Output: 5"
      ],
      "metadata": {
        "id": "mDWvYm7XI8X9"
      }
    },
    {
      "cell_type": "code",
      "source": [
        "def findKthLargest(nums, k):\n",
        "    nums.sort(reverse=True)  # Sort in descending order\n",
        "    return nums[k-1]\n",
        "\n",
        "# Example Usage:\n",
        "nums = [3, 2, 1, 5, 6, 4]\n",
        "k = 2\n",
        "print(findKthLargest(nums, k))  # Output: 5"
      ],
      "metadata": {
        "colab": {
          "base_uri": "https://localhost:8080/"
        },
        "id": "Nqd2cjm8J4rd",
        "outputId": "9fc1ae71-ea17-47a9-e719-76171a6833a8"
      },
      "execution_count": 24,
      "outputs": [
        {
          "output_type": "stream",
          "name": "stdout",
          "text": [
            "5\n"
          ]
        }
      ]
    },
    {
      "cell_type": "markdown",
      "source": [
        "Problem 24: Given an unsorted array, reorder it in-place such that nums[0] <= nums[1] >= nums[2] <=\n",
        "nums[3]...\n",
        "\n",
        "Input: nums = [3, 5, 2, 1, 6, 4]\n",
        "\n",
        "Output: [3, 5, 1, 6, 2, 4]"
      ],
      "metadata": {
        "id": "tFEv-zXvJB3N"
      }
    },
    {
      "cell_type": "code",
      "source": [
        "def wiggleSort(nums):\n",
        "    for i in range(len(nums) - 1):\n",
        "        if (i % 2 == 0 and nums[i] > nums[i + 1]) or (i % 2 == 1 and nums[i] < nums[i + 1]):\n",
        "            # Swap elements to satisfy the condition\n",
        "            nums[i], nums[i + 1] = nums[i + 1], nums[i]\n",
        "\n",
        "# Example Usage:\n",
        "nums = [3, 5, 2, 1, 6, 4]\n",
        "wiggleSort(nums)\n",
        "print(nums)  # Output: [3, 5, 1, 6, 2, 4]"
      ],
      "metadata": {
        "colab": {
          "base_uri": "https://localhost:8080/"
        },
        "id": "O1L_3Mp9J4Ud",
        "outputId": "6f415f29-9c0d-4e2e-c54c-a353d9073b18"
      },
      "execution_count": 25,
      "outputs": [
        {
          "output_type": "stream",
          "name": "stdout",
          "text": [
            "[3, 5, 1, 6, 2, 4]\n"
          ]
        }
      ]
    },
    {
      "cell_type": "markdown",
      "source": [
        "Problem 25: Given an array of integers, calculate the sum of all its elements.\n",
        "\n",
        "Input: [1, 2, 3, 4, 5]\n",
        "\n",
        "Output: 15"
      ],
      "metadata": {
        "id": "GDkvoaWlJHB9"
      }
    },
    {
      "cell_type": "code",
      "source": [
        "def calculateSum(nums):\n",
        "    return sum(nums)\n",
        "\n",
        "# Example Usage:\n",
        "nums = [1, 2, 3, 4, 5]\n",
        "print(calculateSum(nums))  # Output: 15"
      ],
      "metadata": {
        "colab": {
          "base_uri": "https://localhost:8080/"
        },
        "id": "AYErFxqjJ39G",
        "outputId": "ff89437f-8fe5-4813-ae99-6206b1a173af"
      },
      "execution_count": 26,
      "outputs": [
        {
          "output_type": "stream",
          "name": "stdout",
          "text": [
            "15\n"
          ]
        }
      ]
    },
    {
      "cell_type": "markdown",
      "source": [
        "Problem 26: Find the maximum element in an array of integers.\n",
        "\n",
        "Input: [3, 7, 2, 9, 4, 1]\n",
        "\n",
        "Output: 9"
      ],
      "metadata": {
        "id": "fwUGtZS7JMQV"
      }
    },
    {
      "cell_type": "code",
      "source": [
        "def findMax(nums):\n",
        "    return max(nums)\n",
        "\n",
        "# Example Usage:\n",
        "nums = [3, 7, 2, 9, 4, 1]\n",
        "print(findMax(nums))  # Output: 9"
      ],
      "metadata": {
        "colab": {
          "base_uri": "https://localhost:8080/"
        },
        "id": "k_bh6hMWJ3lV",
        "outputId": "2f9365c1-cae3-4980-e0d3-46df2e2c7fb2"
      },
      "execution_count": 27,
      "outputs": [
        {
          "output_type": "stream",
          "name": "stdout",
          "text": [
            "9\n"
          ]
        }
      ]
    },
    {
      "cell_type": "markdown",
      "source": [
        "Problem 27: Implement linear search to find the index of a target element in an array.\n",
        "\n",
        "Input: [5, 3, 8, 2, 7, 4], target = 8\n",
        "\n",
        "Output: 2"
      ],
      "metadata": {
        "id": "C6f06dKIJRPW"
      }
    },
    {
      "cell_type": "code",
      "source": [
        "def linearSearch(nums, target):\n",
        "    for i in range(len(nums)):\n",
        "        if nums[i] == target:\n",
        "            return i  # Return the index if the target is found\n",
        "    return -1  # Return -1 if the target is not found\n",
        "\n",
        "# Example Usage:\n",
        "nums = [5, 3, 8, 2, 7, 4]\n",
        "target = 8\n",
        "print(linearSearch(nums, target))  # Output: 2"
      ],
      "metadata": {
        "id": "nbZS0NVjJ3LV"
      },
      "execution_count": null,
      "outputs": []
    },
    {
      "cell_type": "markdown",
      "source": [
        "Problem 28 Calculate the factorial of a given number.\n",
        "\n",
        "Input: 5\n",
        "\n",
        "Output: 120 (as 5! = 5 * 4 * 3 * 2 * 1 = 120)"
      ],
      "metadata": {
        "id": "JIU5pO4aJWPb"
      }
    },
    {
      "cell_type": "code",
      "source": [
        "def factorial(n):\n",
        "    result = 1\n",
        "    for i in range(1, n + 1):\n",
        "        result *= i\n",
        "    return result\n",
        "\n",
        "# Example Usage:\n",
        "print(factorial(5))  # Output: 120"
      ],
      "metadata": {
        "colab": {
          "base_uri": "https://localhost:8080/"
        },
        "id": "5KQa5iQgJ2s6",
        "outputId": "e82d538f-fc01-4878-8367-a7d4649acec8"
      },
      "execution_count": 28,
      "outputs": [
        {
          "output_type": "stream",
          "name": "stdout",
          "text": [
            "120\n"
          ]
        }
      ]
    },
    {
      "cell_type": "markdown",
      "source": [
        "Problem 29: Check if a given number is a prime number.\n",
        "\n",
        "Input: 7\n",
        "\n",
        "Output: True"
      ],
      "metadata": {
        "id": "luQ5VTNCJc83"
      }
    },
    {
      "cell_type": "code",
      "source": [
        "def isPrime(n):\n",
        "    if n < 2:\n",
        "        return False  # Numbers less than 2 are not prime\n",
        "\n",
        "    for i in range(2, int(n**0.5) + 1):  # Check divisors up to square root of n\n",
        "        if n % i == 0:\n",
        "            return False  # Found a divisor, so n is not prime\n",
        "\n",
        "    return True  # No divisors found, so n is prime\n",
        "\n",
        "# Example Usage:\n",
        "print(isPrime(7))  # Output: True"
      ],
      "metadata": {
        "id": "3bPyjJvwJ2Sn"
      },
      "execution_count": null,
      "outputs": []
    },
    {
      "cell_type": "markdown",
      "source": [
        "Problem 30: Generate the Fibonacci series up to a given number n.\n",
        "\n",
        "Input: 8\n",
        "\n",
        "Output: [0, 1, 1, 2, 3, 5, 8, 13]"
      ],
      "metadata": {
        "id": "v-sOuGlxJkEV"
      }
    },
    {
      "cell_type": "code",
      "source": [
        "def generateFibonacci(n):\n",
        "    if n <= 0:\n",
        "        return []\n",
        "    fibonacci = [0, 1]  # Start the series with 0 and 1\n",
        "    while len(fibonacci) < n:\n",
        "        # Add the sum of the last two numbers in the series\n",
        "        fibonacci.append(fibonacci[-1] + fibonacci[-2])\n",
        "    return fibonacci\n",
        "\n",
        "# Example Usage:\n",
        "n = 8\n",
        "print(generateFibonacci(n))  # Output: [0, 1, 1, 2, 3, 5, 8, 13]"
      ],
      "metadata": {
        "id": "qc7Twk1wJ1bq"
      },
      "execution_count": null,
      "outputs": []
    },
    {
      "cell_type": "markdown",
      "source": [
        "Problem 31: Calculate the power of a number using recursion.\n",
        "\n",
        "Input: base = 3, exponent = 4\n",
        "\n",
        "Output: 81 (as 3^4 = 3 * 3 * 3 * 3 = 81)"
      ],
      "metadata": {
        "id": "64S5JUHDJo7z"
      }
    },
    {
      "cell_type": "code",
      "source": [
        "def power(base, exponent):\n",
        "    # Base case: any number raised to the power of 0 is 1\n",
        "    if exponent == 0:\n",
        "        return 1\n",
        "    # Recursive case\n",
        "    return base * power(base, exponent - 1)\n",
        "\n",
        "# Example Usage:\n",
        "base = 3\n",
        "exponent = 4\n",
        "print(power(base, exponent))  # Output: 81"
      ],
      "metadata": {
        "colab": {
          "base_uri": "https://localhost:8080/"
        },
        "id": "BdR30OOCJ0Do",
        "outputId": "e5e2e2e1-1b63-4478-d2de-c03b96816cf8"
      },
      "execution_count": 30,
      "outputs": [
        {
          "output_type": "stream",
          "name": "stdout",
          "text": [
            "81\n"
          ]
        }
      ]
    },
    {
      "cell_type": "markdown",
      "source": [
        "Problem 32: Reverse a given string.\n",
        "\n",
        "Input: \"hello\"\n",
        "\n",
        "Output: \"olleh\""
      ],
      "metadata": {
        "id": "c_45mQyQJujN"
      }
    },
    {
      "cell_type": "code",
      "execution_count": 29,
      "metadata": {
        "colab": {
          "base_uri": "https://localhost:8080/"
        },
        "id": "RFMv44OQGU0j",
        "outputId": "3b66f99a-903f-45c6-e21c-488bf6ab0840"
      },
      "outputs": [
        {
          "output_type": "stream",
          "name": "stdout",
          "text": [
            "olleh\n"
          ]
        }
      ],
      "source": [
        "def reverseString(s):\n",
        "    return s[::-1]\n",
        "\n",
        "# Example Usage:\n",
        "input_str = \"hello\"\n",
        "print(reverseString(input_str))  # Output: \"olleh\""
      ]
    }
  ]
}
