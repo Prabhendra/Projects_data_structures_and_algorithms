{
  "nbformat": 4,
  "nbformat_minor": 0,
  "metadata": {
    "colab": {
      "provenance": []
    },
    "kernelspec": {
      "name": "python3",
      "display_name": "Python 3"
    },
    "language_info": {
      "name": "python"
    }
  },
  "cells": [
    {
      "cell_type": "markdown",
      "source": [
        "#Linked List Practice Question"
      ],
      "metadata": {
        "id": "LVKLSvzzSFBb"
      }
    },
    {
      "cell_type": "markdown",
      "source": [
        "1. Define a doubly linked list\n"
      ],
      "metadata": {
        "id": "tQCvYrs4SCaf"
      }
    },
    {
      "cell_type": "code",
      "execution_count": null,
      "metadata": {
        "id": "7Nm-hunLRzeE"
      },
      "outputs": [],
      "source": [
        "class Node:\n",
        "    def __init__(self, data):\n",
        "        self.data = data\n",
        "        self.prev = None\n",
        "        self.next = None\n",
        "\n",
        "class DoublyLinkedList:\n",
        "    def __init__(self):\n",
        "        self.head = None\n",
        "\n",
        "    def append(self, data):\n",
        "        new_node = Node(data)\n",
        "        if self.head is None:\n",
        "            self.head = new_node\n",
        "        else:\n",
        "            cur = self.head\n",
        "            while cur.next:\n",
        "                cur = cur.next\n",
        "            cur.next = new_node\n",
        "            new_node.prev = cur\n",
        "\n",
        "    def prepend(self, data):\n",
        "        new_node = Node(data)\n",
        "        if self.head is None:\n",
        "            self.head = new_node\n",
        "        else:\n",
        "            new_node.next = self.head\n",
        "            self.head.prev = new_node\n",
        "            self.head = new_node\n",
        "\n",
        "    def print_list(self):\n",
        "        cur = self.head\n",
        "        while cur:\n",
        "            print(cur.data, end=\" \")\n",
        "            cur = cur.next\n",
        "        print()"
      ]
    },
    {
      "cell_type": "markdown",
      "source": [
        "2. Write a function to reverse a linked list in-place"
      ],
      "metadata": {
        "id": "VaWi75fWSOBN"
      }
    },
    {
      "cell_type": "code",
      "source": [
        "def reverse(self):\n",
        "    \"\"\"\n",
        "    Reverses the doubly linked list in-place.\n",
        "    \"\"\"\n",
        "    curr = self.head\n",
        "    while curr:\n",
        "        # Swap the previous and next pointers of the current node.\n",
        "        curr.prev, curr.next = curr.next, curr.prev\n",
        "\n",
        "        # If the current node is the last node, it becomes the new head.\n",
        "        if curr.prev is None:\n",
        "            self.head = curr\n",
        "\n",
        "        # Move to the next node (which is now the previous node).\n",
        "        curr = curr.prev"
      ],
      "metadata": {
        "id": "TqW7RsU8SUks"
      },
      "execution_count": null,
      "outputs": []
    },
    {
      "cell_type": "markdown",
      "source": [
        "3. Detect cycle in a linked list"
      ],
      "metadata": {
        "id": "owcKH2ScSU89"
      }
    },
    {
      "cell_type": "code",
      "source": [
        "def has_cycle(self):\n",
        "    \"\"\"\n",
        "    Detects if the linked list has a cycle using Floyd's cycle-finding algorithm.\n",
        "\n",
        "    Returns:\n",
        "        True if the list has a cycle, False otherwise.\n",
        "    \"\"\"\n",
        "    slow = self.head\n",
        "    fast = self.head\n",
        "\n",
        "    while fast is not None and fast.next is not None:\n",
        "        slow = slow.next\n",
        "        fast = fast.next.next\n",
        "\n",
        "        if slow == fast:\n",
        "            return True  # Cycle detected\n",
        "\n",
        "    return False  # No cycle"
      ],
      "metadata": {
        "id": "pZtHbQbCSXrY"
      },
      "execution_count": null,
      "outputs": []
    },
    {
      "cell_type": "markdown",
      "source": [
        "4. Merge two sorted linked list into one\n",
        "\n",
        "1->3->5->6->null and 2->4->6->8->null should be merged to make\n",
        "\n",
        "1->2->3->4->5->6->7->8"
      ],
      "metadata": {
        "id": "XWfOHhkySbPy"
      }
    },
    {
      "cell_type": "code",
      "source": [
        "def merge_sorted_lists(list1, list2):\n",
        "    \"\"\"\n",
        "    Merges two sorted linked lists into one sorted linked list.\n",
        "\n",
        "    Args:\n",
        "        list1: The first sorted linked list.\n",
        "        list2: The second sorted linked list.\n",
        "\n",
        "    Returns:\n",
        "        A new sorted linked list containing all elements from list1 and list2.\n",
        "    \"\"\"\n",
        "\n",
        "    # Create a dummy node to simplify the logic\n",
        "    dummy = Node(0)\n",
        "    tail = dummy\n",
        "\n",
        "    # Iterate until one of the lists is empty\n",
        "    while list1 and list2:\n",
        "        if list1.data <= list2.data:\n",
        "            tail.next = list1\n",
        "            list1 = list1.next\n",
        "        else:\n",
        "            tail.next = list2\n",
        "            list2 = list2.next\n",
        "        tail = tail.next\n",
        "\n",
        "    # Attach the remaining nodes from the non-empty list\n",
        "    if list1:\n",
        "        tail"
      ],
      "metadata": {
        "id": "tOG9YPlgSg5l"
      },
      "execution_count": null,
      "outputs": []
    },
    {
      "cell_type": "markdown",
      "source": [
        "5. Write a function to remove nth node from the end in a linked list\n",
        "\n",
        "1->2->3->4->5->6, removing 2nd node from end will return 1->2->3->4->6"
      ],
      "metadata": {
        "id": "TXYS9PSfSgKX"
      }
    },
    {
      "cell_type": "code",
      "source": [
        "def remove_nth_from_end(self, n):\n",
        "    \"\"\"\n",
        "    Removes the nth node from the end of the linked list.\n",
        "\n",
        "    Args:\n",
        "        n: The position of the node to remove from the end (1-based).\n",
        "    \"\"\"\n",
        "    # Handle empty list case\n",
        "    if self.head is None:\n",
        "        return\n",
        "\n",
        "    # Find the length of the list\n",
        "    length = 0\n",
        "    curr = self.head\n",
        "    while curr:\n",
        "        length += 1\n",
        "        curr = curr.next\n",
        "\n",
        "    # Handle invalid n value\n",
        "    if n > length or n < 1:\n",
        "        return\n",
        "\n",
        "    # Calculate the position from the beginning\n",
        "    pos_from_start = length - n + 1\n",
        "\n",
        "    # Remove the node at the calculated position\n",
        "    if pos_from_start == 1:\n",
        "        # Removing the head\n",
        "        self.head = self.head.next\n",
        "        if self.head:\n",
        "            self.head.prev = None\n",
        "    else:\n",
        "        # Removing a node other than the head\n",
        "        curr = self.head\n",
        "        for _ in range(pos_from_start - 2):\n",
        "            curr = curr.next\n",
        "\n",
        "        curr.next = curr.next.next\n",
        "        if curr.next:\n",
        "            curr.next.prev = curr"
      ],
      "metadata": {
        "id": "tuOD4tRWSoiT"
      },
      "execution_count": 1,
      "outputs": []
    },
    {
      "cell_type": "markdown",
      "source": [
        "6. Remove duplicates from a sorted linked list\n",
        "\n",
        "1->2->3->3->4->4->4->5  should be changed to 1->2->3->4->5"
      ],
      "metadata": {
        "id": "BVgy9uv-SpJq"
      }
    },
    {
      "cell_type": "code",
      "source": [
        "def remove_duplicates(self):\n",
        "    \"\"\"\n",
        "    Removes duplicates from a sorted linked list.\n",
        "    \"\"\"\n",
        "    if self.head is None:\n",
        "        return\n",
        "\n",
        "    current = self.head\n",
        "    while current.next:\n",
        "        if current.data == current.next.data:\n",
        "            current.next = current.next.next\n",
        "            if current.next:  # Check if current.next is not None\n",
        "                current.next.prev = current\n",
        "        else:\n",
        "            current = current.next"
      ],
      "metadata": {
        "id": "mURCNPY-SvBj"
      },
      "execution_count": null,
      "outputs": []
    },
    {
      "cell_type": "markdown",
      "source": [
        "7. Find the intersection of the two linked lists\n",
        "\n",
        "1->2->3->4->8->6->9  5->1->6->7  , intersection 1->6"
      ],
      "metadata": {
        "id": "QX1IOKpcSvqY"
      }
    },
    {
      "cell_type": "code",
      "source": [
        "def find_intersection(list1, list2):\n",
        "    \"\"\"\n",
        "    Finds the intersection of two linked lists.\n",
        "\n",
        "    Args:\n",
        "        list1: The first linked list.\n",
        "        list2: The second linked list.\n",
        "\n",
        "    Returns:\n",
        "        A new linked list containing the intersection of the two lists, or None if there is no intersection.\n",
        "    \"\"\"\n",
        "\n",
        "    # Create a set to store the nodes of the first list\n",
        "    nodes_in_list1 = set()\n",
        "    current1 = list1.head  # Assuming list1 is a DoublyLinkedList object\n",
        "    while current1:\n",
        "        nodes_in_list1.add(current1)\n",
        "        current1 = current1.next\n",
        "\n",
        "    # Traverse the second list and check for intersection\n",
        "    current2 = list2.head  # Assuming list2 is a DoublyLinkedList object\n",
        "    intersection_head = None\n",
        "    intersection_tail = None\n",
        "\n",
        "    while current2:\n",
        "        if current2 in nodes_in_list1:\n",
        "            # Node is in both lists, add it to the intersection list\n",
        "            if intersection_head is None:\n",
        "                intersection_head = Node(current2.data)\n",
        "                intersection_tail = intersection_head\n",
        "            else:\n",
        "                intersection_tail.next = Node(current2.data)\n",
        "                intersection_tail = intersection_tail.next\n",
        "\n",
        "        current2 = current2.next\n",
        "\n",
        "    # Return the head of the intersection list\n",
        "    return intersection_head"
      ],
      "metadata": {
        "id": "m4QYYXcyS02j"
      },
      "execution_count": null,
      "outputs": []
    },
    {
      "cell_type": "markdown",
      "source": [
        "8. Rotate a linked list by k positions to the right\n",
        "\n",
        "1->2->3->4->8->6->9 , after rotating for 2 times becomes , 3->4->8->6->9->1->2"
      ],
      "metadata": {
        "id": "hHvkCMnZS1Z1"
      }
    },
    {
      "cell_type": "code",
      "source": [
        "def rotate_right(self, k):\n",
        "    \"\"\"\n",
        "    Rotates the linked list by k positions to the right.\n",
        "\n",
        "    Args:\n",
        "        k: The number of positions to rotate.\n",
        "    \"\"\"\n",
        "    if self.head is None or self.head.next is None or k == 0:\n",
        "        return\n",
        "\n",
        "    # Find the length of the list and the tail node\n",
        "    length = 1\n",
        "    tail = self.head\n",
        "    while tail.next:\n",
        "        tail = tail.next\n",
        "        length += 1\n",
        "\n",
        "    # Adjust k if it's greater than the length of the list\n",
        "    k = k % length\n",
        "\n",
        "    if k == 0:\n",
        "        return\n",
        "\n",
        "    # Find the new head node (kth node from the end)\n",
        "    new_head = self.head\n",
        "    for _ in range(length - k - 1):\n",
        "        new_head = new_head.next\n",
        "\n",
        "    # Update pointers to rotate the list\n",
        "    tail.next = self.head\n",
        "    self.head.prev = tail\n",
        "    self.head = new_head.next\n",
        "    new_head.next = None\n",
        "    self.head.prev = None  # Update the new head's prev pointer"
      ],
      "metadata": {
        "id": "lLDGCHtgjgfx"
      },
      "execution_count": null,
      "outputs": []
    },
    {
      "cell_type": "code",
      "source": [
        "# Create a doubly linked list\n",
        "dll = DoublyLinkedList()\n",
        "dll.append(1)\n",
        "dll.append(2)\n",
        "dll.append(3)\n",
        "dll.append(4)\n",
        "dll.append(8)\n",
        "dll.append(6)\n",
        "dll.append(9)\n",
        "\n",
        "# Print the original list\n",
        "dll.print_list()  # Output: 1 2 3 4 8 6 9\n",
        "\n",
        "# Rotate the list by 2 positions to the right\n",
        "dll.rotate_right(2)\n",
        "\n",
        "# Print the rotated list\n",
        "dll.print_list()  # Output: 8 6 9 1 2 3 4"
      ],
      "metadata": {
        "id": "aI9M73qel6tP"
      },
      "execution_count": null,
      "outputs": []
    },
    {
      "cell_type": "markdown",
      "source": [
        "9. Add Two Numbers Represented by LinkedLists:\n",
        "\n",
        "Given two non-empty linked lists representing two non-negative integers, where the digits are stored in\n",
        "reverse order, add the two numbers and return it as a linked list."
      ],
      "metadata": {
        "id": "eohvMCAYS8Tt"
      }
    },
    {
      "cell_type": "code",
      "source": [
        "class Node:\n",
        "    def __init__(self, data):\n",
        "        self.data = data\n",
        "        self.next = None\n",
        "\n",
        "def addTwoNumbers(l1, l2):\n",
        "    \"\"\"\n",
        "    Adds two numbers represented by linked lists.\n",
        "\n",
        "    Args:\n",
        "        l1: The head of the first linked list.\n",
        "        l2: The head of the second linked list.\n",
        "\n",
        "    Returns:\n",
        "        The head of the linked list representing the sum.\n",
        "    \"\"\"\n",
        "    dummy = Node(0)  # Create a dummy node\n",
        "    current = dummy\n",
        "    carry = 0\n",
        "\n",
        "    while l1 or l2 or carry:\n",
        "        val1 = l1.data if l1 else 0\n",
        "        val2 = l2.data if l2 else 0\n",
        "\n",
        "        sum_val = val1 + val2 + carry\n",
        "        carry = sum_val // 10\n",
        "        current.next = Node(sum_val % 10)\n",
        "\n",
        "        current = current.next\n",
        "        l1 = l1.next if l1 else None\n",
        "        l2 = l2.next if l2 else None\n",
        "\n",
        "    return dummy.next  # Return the next node after the dummy"
      ],
      "metadata": {
        "id": "nDeBfJ5rjg3S"
      },
      "execution_count": null,
      "outputs": []
    },
    {
      "cell_type": "code",
      "source": [
        "class Node:\n",
        "    def __init__(self, data):\n",
        "        self.data = data\n",
        "        self.next = None\n",
        "\n",
        "def addTwoNumbers(l1, l2):\n",
        "    \"\"\"\n",
        "    Adds two numbers represented by linked lists.\n",
        "\n",
        "    Args:\n",
        "        l1: The head of the first linked list.\n",
        "        l2: The head of the second linked list.\n",
        "\n",
        "    Returns:\n",
        "        The head of the linked list representing the sum.\n",
        "    \"\"\"\n",
        "    dummy = Node(0)  # Create a dummy node\n",
        "    current = dummy\n",
        "    carry = 0\n",
        "\n",
        "    while l1 or l2 or carry:\n",
        "        val1 = l1.data if l1 else 0\n",
        "        val2 = l2.data if l2 else 0\n",
        "\n",
        "        sum_val = val1 + val2 + carry\n",
        "        carry = sum_val // 10\n",
        "        current.next = Node(sum_val % 10)\n",
        "\n",
        "        current = current.next\n",
        "        l1 = l1.next if l1 else None\n",
        "        l2 = l2.next if l2 else None\n",
        "\n",
        "    return dummy.next  # Return the next node after the dummy"
      ],
      "metadata": {
        "id": "Ussr0Oi6luR3"
      },
      "execution_count": null,
      "outputs": []
    },
    {
      "cell_type": "markdown",
      "source": [
        "10. Clone a Linked List with next and Random Pointer\n",
        "\n",
        "Given a linked list of size N where each node has two links: one pointer points to the next node and the\n",
        "second pointer points to any node in the list. The task is to create a clone of this linked list in O(N) time.\n",
        "\n",
        "\n",
        "Note: The pointer pointing to the next node is ‘next‘ pointer and the one pointing to an arbitrary node is\n",
        "called ‘arbit’ pointer as it can point to any arbitrary node in the linked list.\n",
        "\n",
        "\n",
        "![2.PNG](data:image/png;base64,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)"
      ],
      "metadata": {
        "id": "3e0sIlXSTFv-"
      }
    },
    {
      "cell_type": "code",
      "source": [
        "# prompt: solve above\n",
        "# question number 10 clone a linked.......\n",
        "\n",
        "class Node:\n",
        "    def __init__(self, data):\n",
        "        self.data = data\n",
        "        self.next = None\n",
        "        self.random = None\n",
        "\n",
        "def clone_linked_list(head):\n",
        "    \"\"\"\n",
        "    Clones a linked list with next and random pointers.\n",
        "\n",
        "    Args:\n",
        "        head: The head of the original linked list.\n",
        "\n",
        "    Returns:\n",
        "        The head of the cloned linked list.\n",
        "    \"\"\"\n",
        "\n",
        "    if not head:\n",
        "        return None\n",
        "\n",
        "    # 1. Create a copy of each node and insert it next to the original node.\n",
        "    current = head\n",
        "    while current:\n",
        "        new_node = Node(current.data)\n",
        "        new_node.next = current.next\n",
        "        current.next = new_node\n",
        "        current = new_node.next\n",
        "\n",
        "    # 2. Set the random pointers for the cloned nodes.\n",
        "    current = head\n",
        "    while current:\n",
        "        if current.random:\n",
        "            current.next.random = current.random.next\n",
        "        current = current.next.next\n",
        "\n",
        "    # 3. Separate the original and cloned linked lists.\n",
        "    original = head\n",
        "    cloned = head.next\n",
        "    cloned_head = cloned\n",
        "    while original:\n",
        "        original.next = original.next.next\n",
        "        if cloned.next:\n",
        "          cloned.next = cloned.next.next\n",
        "        original = original.next\n",
        "        cloned = cloned.next\n",
        "    return cloned_head\n"
      ],
      "metadata": {
        "id": "s8ixbyA3jh0v"
      },
      "execution_count": null,
      "outputs": []
    }
  ]
}