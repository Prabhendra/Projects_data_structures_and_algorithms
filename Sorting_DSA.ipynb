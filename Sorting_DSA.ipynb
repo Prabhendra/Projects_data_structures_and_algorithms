{
  "nbformat": 4,
  "nbformat_minor": 0,
  "metadata": {
    "colab": {
      "provenance": []
    },
    "kernelspec": {
      "name": "python3",
      "display_name": "Python 3"
    },
    "language_info": {
      "name": "python"
    }
  },
  "cells": [
    {
      "cell_type": "markdown",
      "source": [
        "#Projects related to sorting in dsa"
      ],
      "metadata": {
        "id": "iP7abzVYb7-x"
      }
    },
    {
      "cell_type": "markdown",
      "source": [
        "Problem 1.Given an array of n numbers, give an algorithm which gives the element appearing maximum\n",
        "number of times?"
      ],
      "metadata": {
        "id": "0zUsm0rdcGUM"
      }
    },
    {
      "cell_type": "code",
      "source": [
        "def find_most_frequent_element(arr):\n",
        "    if not arr:\n",
        "        return -1  # Edge case: Empty array\n",
        "\n",
        "    # Step 1: Find max element to define frequency array size\n",
        "    max_element = arr[0]\n",
        "    for num in arr:\n",
        "        if num > max_element:\n",
        "            max_element = num\n",
        "\n",
        "    # Step 2: Create a frequency array\n",
        "    freq = [0] * (max_element + 1)  # Array to store frequencies\n",
        "\n",
        "    # Step 3: Count occurrences of each element\n",
        "    for num in arr:\n",
        "        freq[num] += 1\n",
        "\n",
        "    # Step 4: Find the most frequent element\n",
        "    max_freq = 0\n",
        "    most_frequent = arr[0]\n",
        "\n",
        "    for i in range(len(freq)):  # Iterate through frequency array\n",
        "        if freq[i] > max_freq:\n",
        "            max_freq = freq[i]\n",
        "            most_frequent = i\n",
        "\n",
        "    return most_frequent\n",
        "\n",
        "# Example usage:\n",
        "arr = [1, 3, 2, 1, 4, 1]\n",
        "print(f\"The most frequent element is: {find_most_frequent_element(arr)}\")\n"
      ],
      "metadata": {
        "id": "xCAokuPnF38O"
      },
      "execution_count": null,
      "outputs": []
    },
    {
      "cell_type": "markdown",
      "source": [
        "Problem 2 : We are given a list of n-1 integers and these integers are in the range of 1 to n . There are no duplicates in the list. One of the integers is missing in the list. Give an algorithm to find that element Ex: [1,2,4,6,3,7,8] 5 is the missing num."
      ],
      "metadata": {
        "id": "1wxKTkJOFX9o"
      }
    },
    {
      "cell_type": "code",
      "source": [
        "def find_missing_number(arr):\n",
        "    n = len(arr) + 1  # Since one number is missing, the actual range is 1 to n\n",
        "    total_sum = (n * (n + 1)) // 2  # Sum of first n natural numbers\n",
        "    actual_sum = sum(arr)  # Sum of elements in the given array\n",
        "    return total_sum - actual_sum  # The missing number\n",
        "\n",
        "# Example usage:\n",
        "arr = [1, 2, 4, 6, 3, 7, 8]\n",
        "missing_number = find_missing_number(arr)\n",
        "print(f\"The missing number is: {missing_number}\")\n"
      ],
      "metadata": {
        "id": "aAUDMYbjF3ES"
      },
      "execution_count": null,
      "outputs": []
    },
    {
      "cell_type": "markdown",
      "source": [
        "Problem 3 : Given an array of n positive numbers. All numbers occurs even number of times except 1 which occurs odd number of times. Find that number in O(n) time and O(1) space. Ex: [1,2,3,2,3,1,3]. 3 is repeats odd times."
      ],
      "metadata": {
        "id": "7-fkfupoFXxH"
      }
    },
    {
      "cell_type": "code",
      "source": [
        "def find_odd_occurrence(arr):\n",
        "    result = 0\n",
        "    for num in arr:\n",
        "        result ^= num  # XOR all numbers\n",
        "    return result  # The remaining number is the one appearing odd times\n",
        "\n",
        "# Example usage:\n",
        "arr = [1, 2, 3, 2, 3, 1, 3]\n",
        "odd_occurrence = find_odd_occurrence(arr)\n",
        "print(f\"The number that appears odd times is: {odd_occurrence}\")\n"
      ],
      "metadata": {
        "id": "3iXjX71zFfNe"
      },
      "execution_count": null,
      "outputs": []
    },
    {
      "cell_type": "markdown",
      "source": [
        "Problem 4 : Given an array of n elements. Find two elements in the array such that their sum is equal to given element K."
      ],
      "metadata": {
        "id": "Qnpv5R18FXgI"
      }
    },
    {
      "cell_type": "code",
      "source": [
        "def find_pair_with_sum_sorted(arr, K):\n",
        "    arr.sort()  # O(n log n)\n",
        "    left, right = 0, len(arr) - 1\n",
        "\n",
        "    while left < right:\n",
        "        current_sum = arr[left] + arr[right]\n",
        "        if current_sum == K:\n",
        "            return (arr[left], arr[right])\n",
        "        elif current_sum < K:\n",
        "            left += 1\n",
        "        else:\n",
        "            right -= 1\n",
        "\n",
        "    return None  # No pair found\n"
      ],
      "metadata": {
        "id": "rXSwYBW9F2dv"
      },
      "execution_count": null,
      "outputs": []
    },
    {
      "cell_type": "markdown",
      "source": [
        "Problem 5 : Given an array of both positive and negative numbers, find two numbers such that their sum is closest to 0. Ex: [ 1 ,60 ,-10, 70, -80,85]. Ans : -80,85."
      ],
      "metadata": {
        "id": "Z2s4C6JRFXc5"
      }
    },
    {
      "cell_type": "code",
      "source": [
        "def closest_to_zero_brute(arr):\n",
        "    n = len(arr)\n",
        "    min_sum = float(\"inf\")\n",
        "    best_pair = (None, None)\n",
        "\n",
        "    for i in range(n):\n",
        "        for j in range(i + 1, n):\n",
        "            current_sum = arr[i] + arr[j]\n",
        "            if abs(current_sum) < abs(min_sum):\n",
        "                min_sum = current_sum\n",
        "                best_pair = (arr[i], arr[j])\n",
        "\n",
        "    return best_pair\n"
      ],
      "metadata": {
        "id": "qTqLuwEwF19J"
      },
      "execution_count": null,
      "outputs": []
    },
    {
      "cell_type": "markdown",
      "source": [
        "Problem 6 : Given an array of n elements . Find three elements such that their sum is equal to the given number."
      ],
      "metadata": {
        "id": "rwqhrIQWFXZ-"
      }
    },
    {
      "cell_type": "code",
      "source": [
        "def find_three_numbers_brute(arr, K):\n",
        "    n = len(arr)\n",
        "    for i in range(n):\n",
        "        for j in range(i + 1, n):\n",
        "            for k in range(j + 1, n):\n",
        "                if arr[i] + arr[j] + arr[k] == K:\n",
        "                    return (arr[i], arr[j], arr[k])\n",
        "    return None\n"
      ],
      "metadata": {
        "id": "Su0rgs8kF1hS"
      },
      "execution_count": null,
      "outputs": []
    },
    {
      "cell_type": "markdown",
      "source": [
        "Problem 7 : Given an array of n elements . Find three elements i, j, k in the array such that i * i + j * j = k*k."
      ],
      "metadata": {
        "id": "lPBZHintFXXC"
      }
    },
    {
      "cell_type": "code",
      "source": [
        "def find_pythagorean_triplet(arr):\n",
        "    # Square all elements\n",
        "    arr = [x * x for x in arr]\n",
        "    arr.sort()  # Sort squared elements\n",
        "\n",
        "    n = len(arr)\n",
        "\n",
        "    # Fix the largest element one by one\n",
        "    for k in range(n - 1, 1, -1):\n",
        "        left, right = 0, k - 1\n",
        "\n",
        "        while left < right:\n",
        "            if arr[left] + arr[right] == arr[k]:\n",
        "                return (int(arr[left]**0.5), int(arr[right]**0.5), int(arr[k]**0.5))  # Found triplet\n",
        "\n",
        "            if arr[left] + arr[right] < arr[k]:\n",
        "                left += 1  # Increase sum\n",
        "            else:\n",
        "                right -= 1  # Decrease sum\n",
        "\n",
        "    return None  # No triplet found\n",
        "\n",
        "# Example usage:\n",
        "arr = [3, 1, 4, 6, 5]\n",
        "result = find_pythagorean_triplet(arr)\n",
        "if result:\n",
        "    print(f\"Pythagorean triplet found: {result}\")\n",
        "else:\n",
        "    print(\"No Pythagorean triplet found\")\n"
      ],
      "metadata": {
        "id": "GBNDVselF049"
      },
      "execution_count": null,
      "outputs": []
    },
    {
      "cell_type": "code",
      "source": [
        "def find_pythagorean_triplet_hash(arr):\n",
        "    squares = set(x * x for x in arr)\n",
        "\n",
        "    for i in range(len(arr)):\n",
        "        for j in range(i + 1, len(arr)):\n",
        "            if arr[i]**2 + arr[j]**2 in squares:\n",
        "                return (arr[i], arr[j], int((arr[i]**2 + arr[j]**2) ** 0.5))\n",
        "    return None\n"
      ],
      "metadata": {
        "id": "u-MIAyHk1-Tc"
      },
      "execution_count": null,
      "outputs": []
    },
    {
      "cell_type": "markdown",
      "source": [
        "Problem 8 : An element is a majority if it appears more than n/2 times. Give an algorithm takes an array of n element as argument and identifies a majority (if it exists)."
      ],
      "metadata": {
        "id": "JsLP1zlQFXUB"
      }
    },
    {
      "cell_type": "code",
      "source": [
        "def find_majority_element(arr):\n",
        "    # Phase 1: Find candidate\n",
        "    candidate = None\n",
        "    count = 0\n",
        "\n",
        "    for num in arr:\n",
        "        if count == 0:\n",
        "            candidate = num\n",
        "        count += (1 if num == candidate else -1)\n",
        "\n",
        "    # Phase 2: Verify candidate\n",
        "    if arr.count(candidate) > len(arr) // 2:\n",
        "        return candidate\n",
        "    else:\n",
        "        return -1  # No majority element\n",
        "\n",
        "# Example usage:\n",
        "arr = [3, 3, 4, 2, 3, 3, 3, 2, 3]\n",
        "result = find_majority_element(arr)\n",
        "print(f\"Majority Element: {result}\" if result != -1 else \"No Majority Element\")\n"
      ],
      "metadata": {
        "id": "_gdxAZDxF0dU"
      },
      "execution_count": null,
      "outputs": []
    },
    {
      "cell_type": "markdown",
      "source": [
        "Problem 9 : Given n × n matrix, and in each row all 1’s are followed by 0’s. Find the row with the maximum number of 0’s."
      ],
      "metadata": {
        "id": "mCGesXMnFXQw"
      }
    },
    {
      "cell_type": "code",
      "source": [
        "def find_row_with_max_zeros(matrix):\n",
        "    n = len(matrix)\n",
        "    max_zeros = 0\n",
        "    best_row = -1\n",
        "\n",
        "    for i in range(n):\n",
        "        # Binary search to find the first 0 in row i\n",
        "        left, right = 0, n - 1\n",
        "        first_zero_index = n  # Default to n if no zero is found\n",
        "\n",
        "        while left <= right:\n",
        "            mid = (left + right) // 2\n",
        "            if matrix[i][mid] == 0:\n",
        "                first_zero_index = mid\n",
        "                right = mid - 1  # Search on the left side\n",
        "            else:\n",
        "                left = mid + 1  # Move right to find first 0\n",
        "\n",
        "        zero_count = n - first_zero_index\n",
        "        if zero_count > max_zeros:\n",
        "            max_zeros = zero_count\n",
        "            best_row = i\n",
        "\n",
        "    return best_row\n",
        "\n",
        "# Example usage:\n",
        "matrix = [\n",
        "    [1, 1, 0, 0],  # Row 0 → 2 zeros\n",
        "    [1, 0, 0, 0],  # Row 1 → 3 zeros\n",
        "    [1, 1, 1, 0],  # Row 2 → 1 zero\n",
        "    [0, 0, 0, 0]   # Row 3 → 4 zeros\n",
        "]\n",
        "result = find_row_with_max_zeros(matrix)\n",
        "print(f\"Row with maximum zeros: {result}\")  # Output: Row 3\n"
      ],
      "metadata": {
        "id": "YnXpn0doFz7h"
      },
      "execution_count": null,
      "outputs": []
    },
    {
      "cell_type": "markdown",
      "source": [
        "Problem 10 : Sort an array of 0’s, 1’s and 2’s [or R’s, G’s and B’s]: Given an array A[] consisting of 0’s, 1’s and 2’s, give an algorithm for sorting A[].The algorithm should put all 0’s first, then all 1’s and finally all 2’s at the end. Example Input = {0,1,1,0,1,2,1,2,0,0,0,1}, Output = {0,0,0,0,0,1,1,1,1,1,2,2}"
      ],
      "metadata": {
        "id": "W6yJQH_QFXNU"
      }
    },
    {
      "cell_type": "code",
      "execution_count": null,
      "metadata": {
        "id": "OzksXGjVb31y"
      },
      "outputs": [],
      "source": [
        "def sort_colors(arr):\n",
        "    l, m, h = 0, 0, len(arr) - 1\n",
        "\n",
        "    while m <= h:\n",
        "        if arr[m] == 0:\n",
        "            arr[l], arr[m] = arr[m], arr[l]  # Swap 0 to the left\n",
        "            l += 1\n",
        "            m += 1\n",
        "        elif arr[m] == 1:\n",
        "            m += 1  # 1 is in the correct place\n",
        "        else:\n",
        "            arr[m], arr[h] = arr[h], arr[m]  # Swap 2 to the right\n",
        "            h -= 1  # Move high pointer left\n",
        "\n",
        "# Example usage:\n",
        "arr = [0, 1, 1, 0, 1, 2, 1, 2, 0, 0, 0, 1]\n",
        "sort_colors(arr)\n",
        "print(\"Sorted Array:\", arr)\n"
      ]
    }
  ]
}