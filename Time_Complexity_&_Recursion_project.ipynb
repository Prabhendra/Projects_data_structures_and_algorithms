{
  "nbformat": 4,
  "nbformat_minor": 0,
  "metadata": {
    "colab": {
      "provenance": []
    },
    "kernelspec": {
      "name": "python3",
      "display_name": "Python 3"
    },
    "language_info": {
      "name": "python"
    }
  },
  "cells": [
    {
      "cell_type": "markdown",
      "source": [
        "#Time Complexity + Recursion"
      ],
      "metadata": {
        "id": "TEtivjYoLHaI"
      }
    },
    {
      "cell_type": "markdown",
      "source": [
        "Find time complexity of below code blocks :"
      ],
      "metadata": {
        "id": "Ttj4lSV4LSBR"
      }
    },
    {
      "cell_type": "markdown",
      "source": [
        "#Problem 1 :\n",
        "\n",
        "\n",
        "def quicksort(arr):\n",
        "\n",
        "    if len(arr) <= 1:\n",
        "\n",
        "      return arr\n",
        "\n",
        "    pivot = arr[len(arr) // 2]\n",
        "\n",
        "    left = [x for x in arr if x < pivot]\n",
        "\n",
        "    middle = [x for x in arr if x == pivot]\n",
        "\n",
        "    right = [x for x in arr if x > pivot]\n",
        "\n",
        "    return quicksort(left) + middle + quicksort(right)"
      ],
      "metadata": {
        "id": "4hRH9CQ-LTN1"
      }
    },
    {
      "cell_type": "markdown",
      "source": [
        "##Solution:\n",
        "\n",
        "Time Complexity Analysis:\n",
        "\n",
        "1. Best and Average Case:\n",
        "\n",
        "- In an ideal scenario, the pivot divides the array into two roughly equal halves each time.\n",
        "- The subproblems reduce to ( T(n/2) ), ( T(n/4) ), and so on, until ( n ) reduces to 1\n",
        "- The recurrence relation is: [ T(n) = 2T\\left(\\frac{n}{2}\\right) + O(n) ]\n",
        "- The recurrence relation is: [ T(n) = 2T\\left(\\frac{n}{2}\\right) + O(n) ]\n",
        "\n",
        "Using the Master Theorem, this simplifies to: [ O(n \\log n) ] So, best and average case time complexity is ( O(n \\log n) ).\n",
        "\n",
        "2. Worst Case:\n",
        "\n",
        "- If the pivot is poorly chosen, such as when it repeatedly selects the smallest or largest element, the partitions become highly unbalanced (e.g., one partition contains ( n - 1 ) elements, and the other contains 0).\n",
        "- The recurrence relation becomes: [ T(n) = T(n - 1) + O(n) ] Solving this recurrence yields: [ O(n2) ] This is worst time complexity.\n",
        "\n",
        "3. Space Complexity:\n",
        "\n",
        "- The code uses additional space for , , and  subarrays during each recursive call. This space usage is proportional to ( n ).\n",
        "- In the worst case, the recursion depth can go up to ( n ), resulting in: [ O(n) ] for stack space.\n"
      ],
      "metadata": {
        "id": "WiUHrXGQRKWx"
      }
    },
    {
      "cell_type": "markdown",
      "source": [
        "#Problem 2 :\n",
        "\n",
        "def nested_loop_example(matrix):\n",
        "\n",
        "    rows, cols = len(matrix), len(matrix[0])\n",
        "\n",
        "    total = 0\n",
        "\n",
        "    for i in range(rows):\n",
        "\n",
        "        for j in range(cols):\n",
        "\n",
        "            total += matrix[i][j]\n",
        "\n",
        "    return total"
      ],
      "metadata": {
        "id": "msouv6xJLrIp"
      }
    },
    {
      "cell_type": "markdown",
      "source": [
        "##Solution:\n",
        "Time Complexity: O(rows * cols) or O(n * m)\n",
        "\n",
        "Explanation:\n",
        "\n",
        "- The function uses two nested loops to iterate through each element of a matrix. The outer loop runs rows times (number of rows) and for each row, the inner loop runs cols times (number of columns). This means the code inside the inner loop, which takes constant time, is executed a total of rows * cols times.\n",
        "\n",
        "Why O(rows * cols)?\n",
        "\n",
        "- The time taken by the function is directly proportional to the size of the matrix (number of rows and columns).\n",
        "- As the matrix grows, the number of operations increases proportionally.\n",
        "- This relationship is represented by the time complexity notation O(rows * cols), or generally O(n * m) where 'n' is rows and 'm' is columns.\n",
        "\n",
        "Special Case: Square Matrix\n",
        "\n",
        "- If the matrix is square (rows = cols = n), the time complexity becomes O(n^2). This is because the number of operations scales with the square of the matrix size."
      ],
      "metadata": {
        "id": "TOq_aq1gSfph"
      }
    },
    {
      "cell_type": "markdown",
      "source": [
        "#Problem 3 :\n",
        "\n",
        "def example_function(arr):\n",
        "    \n",
        "    result = 0\n",
        "    \n",
        "    for element in arr:\n",
        "    \n",
        "        result += element\n",
        "    \n",
        "    return result"
      ],
      "metadata": {
        "id": "HeqAN5gYMQSm"
      }
    },
    {
      "cell_type": "markdown",
      "source": [
        "##Solution:\n",
        "\n",
        "Time Complexity: O(n)\n",
        "\n",
        "Explanation:\n",
        "\n",
        "- The function example_function iterates through each element of an array arr using a single loop.\n",
        "\n",
        "- Loop: The loop iterates n times, where n is the length of the array.\n",
        "- Operation: Inside the loop, a constant-time operation (result += element) is performed.\n",
        "- Therefore, the total number of times the operation is executed is directly proportional to the length of the array.\n",
        "\n",
        "Why O(n)?\n",
        "\n",
        "- The time taken by the function is directly proportional to the size of the input array.\n",
        "- As the array grows, the number of operations increases proportionally.\n",
        "- This relationship is represented by the time complexity notation O(n), where 'n' is the length of the array."
      ],
      "metadata": {
        "id": "Gwjq3KUmTAas"
      }
    },
    {
      "cell_type": "markdown",
      "source": [
        "#Problem 4 :\n",
        "\n",
        "def longest_increasing_subsequence(nums):\n",
        "\n",
        "    n = len(nums)\n",
        "\n",
        "    lis = [1] * n\n",
        "\n",
        "    for i in range(1, n):\n",
        "\n",
        "        for j in range(0, i):\n",
        "\n",
        "            if nums[i] > nums[j] and lis[i] < lis[j] + 1:\n",
        "\n",
        "                lis[i] = lis[j] + 1\n",
        "\n",
        "    return max(lis)"
      ],
      "metadata": {
        "id": "s2ZAwLeQMb1E"
      }
    },
    {
      "cell_type": "markdown",
      "source": [
        "##Solution:\n",
        "\n",
        "Time Complexity: O(n^2)\n",
        "\n",
        "Explanation:\n",
        "\n",
        "- The function longest_increasing_subsequence calculates the length of the longest increasing subsequence in a given array nums. It uses two nested loops to achieve this.\n",
        "\n",
        "- Outer Loop: The outer loop iterates n-1 times, where n is the length of the input array nums. This loop is controlled by the variable i, which ranges from 1 to n-1.\n",
        "\n",
        "- Inner Loop: For each iteration of the outer loop, the inner loop iterates i times. This loop is controlled by the variable j, which ranges from 0 to i-1.\n",
        "\n",
        "- Operation: Inside the inner loop, a constant-time comparison and update operation is performed (if nums[i] > nums[j] and lis[i] < lis[j] + 1: lis[i] = lis[j] + 1).\n",
        "\n",
        "Why O(n^2)?\n",
        "\n",
        "- The nested loops dominate the execution time. The operations inside the loops take constant time, but they are executed approximately n*(n-1)/2 times in total, which simplifies to O(n^2)."
      ],
      "metadata": {
        "id": "M4AdX5A9TReI"
      }
    },
    {
      "cell_type": "markdown",
      "source": [
        "Problem 5 :\n",
        "\n",
        "def mysterious_function(arr):\n",
        "\n",
        "    n = len(arr)\n",
        "\n",
        "    result = 0\n",
        "\n",
        "    for i in range(n):\n",
        "\n",
        "        for j in range(i, n):\n",
        "\n",
        "            result += arr[i] * arr[j]\n",
        "\n",
        "    return result"
      ],
      "metadata": {
        "id": "x1YfOls_M0va"
      }
    },
    {
      "cell_type": "markdown",
      "source": [
        "##Solution:\n",
        "\n",
        "Time Complexity: O(n^2)\n",
        "\n",
        "Explanation:\n",
        "\n",
        "- The function mysterious_function performs a calculation involving two nested loops.\n",
        "\n",
        "- Outer Loop: The outer loop iterates n times, where n is the length of the input array arr.  - This loop is controlled by the variable i, which ranges from 0 to n-1.\n",
        "\n",
        "- Inner Loop: For each iteration of the outer loop, the inner loop iterates n-i times. This loop is controlled by the variable j, which ranges from i to n-1.\n",
        "\n",
        "- Operation: Inside the inner loop, a constant-time operation (result += arr[i] * arr[j]) is performed.\n",
        "\n",
        "Why O(n^2)?\n",
        "\n",
        "- The nested loops dominate the execution time. - Although the inner loop's range decreases with each iteration of the outer loop, the total number of iterations is still proportional to n^2.\n",
        "- This can be visualized as a triangular pattern of iterations, where the number of operations decreases gradually but remains significant."
      ],
      "metadata": {
        "id": "f8zihUBvToXk"
      }
    },
    {
      "cell_type": "markdown",
      "source": [
        "Solve the following problems on recursion:"
      ],
      "metadata": {
        "id": "jAeHRKqSNO9m"
      }
    },
    {
      "cell_type": "markdown",
      "source": [
        "#Problem 6 : Sum of Digits\n",
        "\n",
        "Write a recursive function to calculate the sum of digits of a given positive integer.\n",
        "sum_of_digits(123) -> 6"
      ],
      "metadata": {
        "id": "xAklMmtANSko"
      }
    },
    {
      "cell_type": "code",
      "source": [
        "def sum_of_digits(n):\n",
        "    if n == 0:\n",
        "        return 0  # Base case: When the number is reduced to 0\n",
        "    return n % 10 + sum_of_digits(n // 10)  # Add the last digit to the recursive result\n",
        "\n",
        "# Example Usage:\n",
        "print(sum_of_digits(123))  # Output: 6"
      ],
      "metadata": {
        "id": "t-ezg7m2Tg3n"
      },
      "execution_count": null,
      "outputs": []
    },
    {
      "cell_type": "markdown",
      "source": [
        "#Problem 7: Fibonacci Series\n",
        "\n",
        "Write a recursive function to generate the first n numbers of the Fibonacci series.\n",
        "fibonacci_series(6) -> [0, 1, 1, 2, 3, 5]"
      ],
      "metadata": {
        "id": "QUtqDwGhNXK2"
      }
    },
    {
      "cell_type": "code",
      "source": [
        "def fibonacci_series(n):\n",
        "\n",
        "  if n <= 0:\n",
        "    return []\n",
        "  elif n == 1:\n",
        "    return [0]\n",
        "  else:\n",
        "    list_fib = fibonacci_series(n - 1)\n",
        "    list_fib.append(list_fib[-1] + list_fib[-2] if len(list_fib) >= 2 else 1)\n",
        "    return list_fib\n",
        "\n",
        "# Example usage\n",
        "print(fibonacci_series(6))  # Output: [0, 1, 1, 2, 3, 5]"
      ],
      "metadata": {
        "colab": {
          "base_uri": "https://localhost:8080/"
        },
        "id": "9x1uccD6T-pH",
        "outputId": "392f3f5c-e682-4216-e006-a9acb3865186"
      },
      "execution_count": 1,
      "outputs": [
        {
          "output_type": "stream",
          "name": "stdout",
          "text": [
            "[0, 1, 1, 2, 3, 5]\n"
          ]
        }
      ]
    },
    {
      "cell_type": "markdown",
      "source": [
        "#Problem 8 : Subset Sum\n",
        "\n",
        "Given a set of positive integers and a target sum, write a recursive function to determine if there exists a subset\n",
        "of the integers that adds up to the target sum.\n",
        "\n",
        "subset_sum([3, 34, 4, 12, 5, 2], 9) -> True"
      ],
      "metadata": {
        "id": "84t6qZerNbnv"
      }
    },
    {
      "cell_type": "code",
      "source": [
        "def subset_sum(nums, target):\n",
        "\n",
        "  if target == 0:\n",
        "    return True  # Base case: Target sum reached\n",
        "  if not nums or target < 0:\n",
        "    return False  # Base case: No numbers left or target became negative\n",
        "\n",
        "  # Recursive cases:\n",
        "  # 1. Include the current number in the subset\n",
        "  include_current = subset_sum(nums[1:], target - nums[0])\n",
        "\n",
        "  # 2. Exclude the current number from the subset\n",
        "  exclude_current = subset_sum(nums[1:], target)\n",
        "\n",
        "  return include_current or exclude_current  # Return True if either case is True\n",
        "\n",
        "# Example usage\n",
        "print(subset_sum([3, 34, 4, 12, 5, 2], 9))  # Output: True"
      ],
      "metadata": {
        "colab": {
          "base_uri": "https://localhost:8080/"
        },
        "id": "CSdwZGKeUOkt",
        "outputId": "f4fa3bb4-04cd-4680-b2b4-4a3303c09859"
      },
      "execution_count": 2,
      "outputs": [
        {
          "output_type": "stream",
          "name": "stdout",
          "text": [
            "True\n"
          ]
        }
      ]
    },
    {
      "cell_type": "markdown",
      "source": [
        "#Problem 9: Word Break\n",
        "\n",
        "Given a non-empty string and a dictionary of words, write a recursive function to determine if the string can be\n",
        "segmented into a space-separated sequence of dictionary words.\n",
        "\n",
        "word_break( leetcode , [ leet , code ]) -> True"
      ],
      "metadata": {
        "id": "-Q8H57_YNiwV"
      }
    },
    {
      "cell_type": "code",
      "source": [
        "def word_break(s, word_dict):\n",
        "\n",
        "  if not s:\n",
        "    return True  # Base case: Empty string is always segmentable\n",
        "\n",
        "  for word in word_dict:\n",
        "    if s.startswith(word):\n",
        "      if word_break(s[len(word):], word_dict):\n",
        "        return True  # Found a valid segmentation\n",
        "\n",
        "  return False  # No valid segmentation found\n",
        "\n",
        "# Example usage\n",
        "print(word_break(\"leetcode\", [\"leet\", \"code\"]))  # Output: True"
      ],
      "metadata": {
        "colab": {
          "base_uri": "https://localhost:8080/"
        },
        "id": "oSS-4kLrUQ-V",
        "outputId": "c3cef93a-644d-487d-b18a-7cf1b2028eef"
      },
      "execution_count": 3,
      "outputs": [
        {
          "output_type": "stream",
          "name": "stdout",
          "text": [
            "True\n"
          ]
        }
      ]
    },
    {
      "cell_type": "markdown",
      "source": [
        "#Problem 10 : N-Queens\n",
        "\n",
        "Implement a recursive function to solve the N Queens problem, where you have to place N queens on an N×N\n",
        "chessboard in such a way that no two queens threaten each other.\n",
        "\n",
        "n_queens(4)\n",
        "[\n",
        "[\".Q..\",\n",
        "\"...Q\",\n",
        "\"Q...\",\n",
        "\"..Q.\"],\n",
        "[\"..Q.\",\n",
        "\"Q...\",\n",
        "\"...Q\",\n",
        "\".Q..\"]\n",
        "]"
      ],
      "metadata": {
        "id": "TvqPSPZHNpBI"
      }
    },
    {
      "cell_type": "code",
      "source": [
        "def solve_n_queens(n):\n",
        "    def is_safe(board, row, col):\n",
        "        # Check column for other queens\n",
        "        for i in range(row):\n",
        "            if board[i][col] == 'Q':\n",
        "                return False\n",
        "\n",
        "        # Check upper-left diagonal for other queens\n",
        "        for i, j in zip(range(row - 1, -1, -1), range(col - 1, -1, -1)):\n",
        "            if board[i][j] == 'Q':\n",
        "                return False\n",
        "\n",
        "        # Check upper-right diagonal for other queens\n",
        "        for i, j in zip(range(row - 1, -1, -1), range(col + 1, n)):\n",
        "            if board[i][j] == 'Q':\n",
        "                return False\n",
        "\n",
        "        return True\n",
        "\n",
        "    def backtrack(board, row, solutions):\n",
        "        # Base case: If all rows are filled, add the board configuration to the solutions\n",
        "        if row == n:\n",
        "            solutions.append([''.join(row) for row in board])\n",
        "            return\n",
        "\n",
        "        # Try placing a queen in each column of the current row\n",
        "        for col in range(n):\n",
        "            if is_safe(board, row, col):\n",
        "                # Place a queen\n",
        "                board[row][col] = 'Q'\n",
        "                # Recursively place queens in the next row\n",
        "                backtrack(board, row + 1, solutions)\n",
        "                # Remove the queen (backtrack)\n",
        "                board[row][col] = '.'\n",
        "\n",
        "    # Initialize the chessboard\n",
        "    board = [['.' for _ in range(n)] for _ in range(n)]\n",
        "    solutions = []\n",
        "    # Start backtracking from the first row\n",
        "    backtrack(board, 0, solutions)\n",
        "    return solutions\n",
        "\n",
        "# Example Usage:\n",
        "n = 4\n",
        "print(solve_n_queens(n))"
      ],
      "metadata": {
        "colab": {
          "base_uri": "https://localhost:8080/"
        },
        "id": "-KXrvHLhUmdn",
        "outputId": "bfe513ff-243c-4fe2-bf25-73bb29ba6e16"
      },
      "execution_count": 6,
      "outputs": [
        {
          "output_type": "stream",
          "name": "stdout",
          "text": [
            "[['.Q..', '...Q', 'Q...', '..Q.'], ['..Q.', 'Q...', '...Q', '.Q..']]\n"
          ]
        }
      ]
    }
  ]
}